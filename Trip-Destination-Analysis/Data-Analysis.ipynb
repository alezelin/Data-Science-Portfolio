{
 "cells": [
  {
   "cell_type": "markdown",
   "metadata": {},
   "source": [
    "<h1> Trip Destination Analysis"
   ]
  },
  {
   "cell_type": "markdown",
   "metadata": {},
   "source": [
    "**Project presentation:** This analysis was part of my final project for an intensive course (Data Science & AI Bootcamp at Vivadata).      \n",
    "I decided to challenge myself by collecting my own data, even if it was not the easiest way to start this personal project.     \n",
    "Finally, I believe that it helped to improve my web scraping, data cleaning, and data analysis skills. "
   ]
  },
  {
   "cell_type": "markdown",
   "metadata": {},
   "source": [
    "**Disclaimer:** This project does not reflect reality at all due to the lack of data, but it is interesting to look at it as an opportunity to practice."
   ]
  },
  {
   "cell_type": "markdown",
   "metadata": {},
   "source": [
    "**Goal:** The goal is to analyze trip destinations based on about 150 answers of a Google Form. "
   ]
  },
  {
   "cell_type": "markdown",
   "metadata": {},
   "source": [
    "![image](https://mylifesamovie.com/wp-content/uploads/2019/08/Screenshot-2019-08-30-at-2.56.17-PM.png)"
   ]
  },
  {
   "cell_type": "code",
   "execution_count": 1,
   "metadata": {},
   "outputs": [],
   "source": [
    "# Imports \n",
    "\n",
    "import pandas as pd\n",
    "import numpy as np\n",
    "import matplotlib.pyplot as plt\n",
    "import seaborn as sns\n",
    "import os\n",
    "import requests\n",
    "from bs4 import BeautifulSoup\n"
   ]
  },
  {
   "cell_type": "markdown",
   "metadata": {},
   "source": [
    "<h2> Data"
   ]
  },
  {
   "cell_type": "markdown",
   "metadata": {},
   "source": [
    "<h3> Data collection"
   ]
  },
  {
   "cell_type": "markdown",
   "metadata": {},
   "source": [
    "<h4> Dataset of countries and its alpha code (ISO2)"
   ]
  },
  {
   "cell_type": "code",
   "execution_count": null,
   "metadata": {},
   "outputs": [],
   "source": [
    "filepath_country = os.path.join('..','..', 'data', 'Projet-final', 'country-code-fr.csv')"
   ]
  },
  {
   "cell_type": "code",
   "execution_count": null,
   "metadata": {},
   "outputs": [],
   "source": [
    "data_fr = pd.read_csv(filepath_country)"
   ]
  },
  {
   "cell_type": "code",
   "execution_count": null,
   "metadata": {},
   "outputs": [],
   "source": [
    "data_fr.head()"
   ]
  },
  {
   "cell_type": "markdown",
   "metadata": {},
   "source": [
    "<h4> Web Scraping"
   ]
  },
  {
   "cell_type": "markdown",
   "metadata": {},
   "source": [
    "We will use web scraping to get more information about the country that were visited and see if there is any correlation between age groups and destination choice for instance."
   ]
  },
  {
   "cell_type": "markdown",
   "metadata": {},
   "source": [
    "In order to collect infos on countries, we will be using the french website : https://planificateur.a-contresens.net/"
   ]
  },
  {
   "cell_type": "markdown",
   "metadata": {},
   "source": [
    "![image](https://zupimages.net/up/19/49/30g7.png)"
   ]
  },
  {
   "cell_type": "markdown",
   "metadata": {},
   "source": [
    "The 1st step is to analyze how the different URLs are constructed.\n",
    "\n",
    "Ex: https://planificateur.a-contresens.net/europe/pays-FR-france.html"
   ]
  },
  {
   "cell_type": "markdown",
   "metadata": {},
   "source": [
    "![image alt <](https://zupimages.net/up/19/49/ro4s.png)\n"
   ]
  },
  {
   "cell_type": "markdown",
   "metadata": {},
   "source": [
    "At first sight, an URL for a random country is composed of : \n",
    "- name of the continent\n",
    "- word 'pays'\n",
    "- ISO2 code\n",
    "- name of the country"
   ]
  },
  {
   "cell_type": "markdown",
   "metadata": {},
   "source": [
    "So at the beginning, I found a dataset of countries, its associated continent and name in French. But after a bit of research on the URLs, I found out that only the ISO2 code is necessary to access the differents pages of the countries. \n",
    "Now that we have that info, the scraping will be much easier : only our previous dataset is needed. "
   ]
  },
  {
   "cell_type": "code",
   "execution_count": null,
   "metadata": {},
   "outputs": [],
   "source": [
    "# Building the BASE_URL \n",
    "\n",
    "BASE_URL = 'https://planificateur.a-contresens.net/'"
   ]
  },
  {
   "cell_type": "code",
   "execution_count": null,
   "metadata": {},
   "outputs": [],
   "source": [
    "# Creation of the different characteristics of the countries : mean_temp, rainfall, budget (€/jour/pers), langue, visa requis.\n",
    "\n",
    "data_fr['mean_temp'] = ''\n",
    "data_fr['mean_rain'] = ''\n",
    "data_fr['budget'] = ''\n",
    "data_fr['language'] = ''\n",
    "data_fr['visa_required'] = ''\n",
    "data_fr['continent'] = ''"
   ]
  },
  {
   "cell_type": "code",
   "execution_count": null,
   "metadata": {},
   "outputs": [],
   "source": [
    "# Get the mean temperature and rainfall for each country\n",
    "\n",
    "for i in range(len(data_fr)):\n",
    "    try:\n",
    "        response = requests.get(BASE_URL + 'europe/pays-' + data_fr.iloc[i]['ISO2'] + '-' \n",
    "                                    + 'pays.html')\n",
    "        soup = BeautifulSoup(response.text)\n",
    "\n",
    "        # Get the mean temp for each country\n",
    "        mean_temp_str = soup.find(\"div\", {'class': 'note note-info'}).find('p').find_all('strong')[0].text\n",
    "        mean_temp = float(mean_temp_str.split('°')[0])\n",
    "        data_fr['mean_temp'].iloc[i] = mean_temp\n",
    "\n",
    "        # Get the mean rain for each country\n",
    "        mean_rain_str = soup.find(\"div\", {'class': 'note note-info'}).find('p').find_all('strong')[1].text\n",
    "        mean_rain = float(mean_rain_str.split('m')[0])\n",
    "        data_fr['mean_rain'].iloc[i] = mean_rain\n",
    "\n",
    "        # Get the budget\n",
    "        budget_str = soup.find_all('div', {'class' : 'infos-detail-info'})[2].text.strip().split()[0]\n",
    "        if budget_str == '?':\n",
    "            data_fr['budget'].iloc[i] = None\n",
    "        else:\n",
    "            data_fr['budget'].iloc[i] = float(budget_str)\n",
    "\n",
    "        # Get the language\n",
    "        data_fr['language'].iloc[i] = soup.find_all('div', {'class' : 'infos-detail-info'})[5].text.strip()\n",
    "\n",
    "        # Get the visa requirement \n",
    "        data_fr['visa_required'].iloc[i] = soup.find_all('div', {'class' : 'infos-detail-info'})[6].text.strip()\n",
    "        \n",
    "        # Get the continent\n",
    "        data_fr['continent'].iloc[i] = soup.find_all('div', {'class' : 'infos-detail-info'})[0].text.strip()\n",
    "        \n",
    "    except:\n",
    "        print(data_fr.iloc[i]['Pays'])"
   ]
  },
  {
   "cell_type": "code",
   "execution_count": null,
   "metadata": {},
   "outputs": [],
   "source": [
    "data_fr['CountryId'] = [i for i in range(len(data_fr))]"
   ]
  },
  {
   "cell_type": "code",
   "execution_count": null,
   "metadata": {},
   "outputs": [],
   "source": [
    "# Saving it in a CSV file\n",
    "\n",
    "data_fr.to_csv('../../data/Projet-final/data_country.csv')"
   ]
  },
  {
   "cell_type": "markdown",
   "metadata": {},
   "source": [
    "<h4> Google Form"
   ]
  },
  {
   "cell_type": "markdown",
   "metadata": {},
   "source": [
    "![image](https://zupimages.net/up/19/49/cwkj.png)                            \n",
    "![image](https://zupimages.net/up/19/49/s32u.png) "
   ]
  },
  {
   "cell_type": "markdown",
   "metadata": {},
   "source": [
    "<span style='font-size: 1.5em;'> **CSV file : Raw form (before cleaning)** </span>"
   ]
  },
  {
   "cell_type": "markdown",
   "metadata": {},
   "source": [
    "![image](https://zupimages.net/up/19/49/k8j3.png)"
   ]
  },
  {
   "cell_type": "markdown",
   "metadata": {},
   "source": [
    "<span style='font-size: 1.5em;'> **Cleaning process** </span>"
   ]
  },
  {
   "cell_type": "code",
   "execution_count": 57,
   "metadata": {},
   "outputs": [],
   "source": [
    "filepath_form = os.path.join('..','..', 'data', 'Projet-final', 'voyages3.csv')\n",
    "data_raw = pd.read_csv(filepath_form, na_values=' ')"
   ]
  },
  {
   "cell_type": "code",
   "execution_count": 58,
   "metadata": {},
   "outputs": [],
   "source": [
    "data_raw.columns = ['None', 'age_group','voyage1', 'notev1', 'voyage2' , 'notev2', 'voyage3', 'notev3','cout', 'paysage', 'activ', 'confort', 'periode', 'meteo', 'poids'] "
   ]
  },
  {
   "cell_type": "code",
   "execution_count": 59,
   "metadata": {},
   "outputs": [],
   "source": [
    "# Creating UserId, useful to have a link between the 3 trips made by one user\n",
    "\n",
    "data_raw['UserId'] = [i for i in range(len(data_raw))]"
   ]
  },
  {
   "cell_type": "code",
   "execution_count": 60,
   "metadata": {},
   "outputs": [],
   "source": [
    "# Get dummies of age_group\n",
    "\n",
    "data_raw = pd.concat([data_raw, pd.get_dummies(data_raw['age_group'])], axis=1)"
   ]
  },
  {
   "cell_type": "code",
   "execution_count": 61,
   "metadata": {},
   "outputs": [],
   "source": [
    "# Creating columns for the new dataset\n",
    "\n",
    "columns_data = ['UserId', 'voyage', 'note', 'cout', 'paysage', 'activ', 'confort', 'periode', 'meteo','cout_p', 'paysage_p', 'activ_p', 'confort_p', 'periode_p', 'meteo_p', '18-26 ans', '27-39 ans', '40-60 ans',\n",
    "       'moins de 18 ans', 'plus de 60 ans' ]"
   ]
  },
  {
   "cell_type": "code",
   "execution_count": 62,
   "metadata": {},
   "outputs": [],
   "source": [
    "data_reviews = pd.DataFrame(columns=columns_data)"
   ]
  },
  {
   "cell_type": "code",
   "execution_count": 63,
   "metadata": {},
   "outputs": [],
   "source": [
    "# Replacing NA values by strings in order to split ';'\n",
    "\n",
    "data_raw[['cout','paysage', 'meteo', 'periode', 'activ', 'confort']] = data_raw[['cout','paysage', 'meteo', 'periode', 'activ', 'confort']].fillna(value=' ')"
   ]
  },
  {
   "cell_type": "code",
   "execution_count": 64,
   "metadata": {},
   "outputs": [],
   "source": [
    "# Getting list instead of strings \n",
    "for col in ['cout', 'paysage', 'activ', 'confort', 'periode', 'meteo', 'poids']:\n",
    "    data_raw[col] = data_raw[col].apply(lambda x: x.split(';'))"
   ]
  },
  {
   "cell_type": "code",
   "execution_count": 65,
   "metadata": {},
   "outputs": [],
   "source": [
    "# Iteration on the raw data to have a workable dataset\n",
    "\n",
    "for i in range(len(data_raw)):\n",
    "    for k in range(1,4):\n",
    "        temp = []\n",
    "        temp.append(data_raw['UserId'].iloc[i])\n",
    "        temp.append(data_raw[f'voyage{k}'].iloc[i])\n",
    "        temp.append(data_raw[f'notev{k}'].iloc[i])\n",
    "        \n",
    "        # get the different parameters \n",
    "        for col in ['cout', 'paysage', 'activ', 'confort', 'periode', 'meteo']:\n",
    "            if f'Voyage n°{k}' in data_raw[col].iloc[i]:\n",
    "                temp.append(1)\n",
    "            else:\n",
    "                temp.append(0)\n",
    "                \n",
    "        # weight of each parameters        \n",
    "        for word in ['Le coût', 'Le paysage', 'Les activités', 'Le confort', 'La période', 'La météo']:\n",
    "            if word in data_raw['poids'].iloc[i]:\n",
    "                temp.append(2)\n",
    "            else:\n",
    "                temp.append(1)\n",
    "                \n",
    "        # integration of age_group\n",
    "        temp.append(data_raw['18-26 ans'].iloc[i])\n",
    "        temp.append(data_raw['27-39 ans'].iloc[i])\n",
    "        temp.append(data_raw['40-60 ans'].iloc[i])\n",
    "        temp.append(data_raw['moins de 18 ans'].iloc[i])\n",
    "        temp.append(data_raw['plus de 60 ans'].iloc[i])\n",
    "        \n",
    "        \n",
    "        # add line by line to the new dataframe \n",
    "        data_reviews.loc[len(data_reviews)] = temp\n",
    "        "
   ]
  },
  {
   "cell_type": "code",
   "execution_count": 66,
   "metadata": {},
   "outputs": [],
   "source": [
    "# Saving it to a new csv file :\n",
    "\n",
    "data_reviews.to_csv('../../data/Projet-final/data_reviews.csv')"
   ]
  },
  {
   "cell_type": "markdown",
   "metadata": {},
   "source": [
    "<h3> Loading data "
   ]
  },
  {
   "cell_type": "code",
   "execution_count": 2,
   "metadata": {},
   "outputs": [],
   "source": [
    "filepath_form = os.path.join('..','..', 'data', 'Projet-final', 'voyages3.csv')\n",
    "data_travel = pd.read_csv(filepath_form, na_values=' ')\n",
    "data_country = pd.read_csv('../../data/Projet-final/data_country.csv')\n",
    "data_reviews = pd.read_csv('../../data/Projet-final/data_reviews.csv')"
   ]
  },
  {
   "cell_type": "code",
   "execution_count": 3,
   "metadata": {},
   "outputs": [],
   "source": [
    "data_travel.columns = ['None', 'age_group','voyage1', 'notev1', 'voyage2' , 'notev2', 'voyage3', 'notev3','cout', 'paysage', 'activ', 'confort', 'periode', 'meteo', 'poids'] "
   ]
  },
  {
   "cell_type": "markdown",
   "metadata": {},
   "source": [
    "<h2> Data preparation"
   ]
  },
  {
   "cell_type": "markdown",
   "metadata": {},
   "source": [
    "<h3> Global overview"
   ]
  },
  {
   "cell_type": "code",
   "execution_count": 10,
   "metadata": {
    "scrolled": true
   },
   "outputs": [
    {
     "data": {
      "text/html": [
       "<div>\n",
       "<style scoped>\n",
       "    .dataframe tbody tr th:only-of-type {\n",
       "        vertical-align: middle;\n",
       "    }\n",
       "\n",
       "    .dataframe tbody tr th {\n",
       "        vertical-align: top;\n",
       "    }\n",
       "\n",
       "    .dataframe thead th {\n",
       "        text-align: right;\n",
       "    }\n",
       "</style>\n",
       "<table border=\"1\" class=\"dataframe\">\n",
       "  <thead>\n",
       "    <tr style=\"text-align: right;\">\n",
       "      <th></th>\n",
       "      <th>None</th>\n",
       "      <th>age_group</th>\n",
       "      <th>voyage1</th>\n",
       "      <th>notev1</th>\n",
       "      <th>voyage2</th>\n",
       "      <th>notev2</th>\n",
       "      <th>voyage3</th>\n",
       "      <th>notev3</th>\n",
       "      <th>cout</th>\n",
       "      <th>paysage</th>\n",
       "      <th>activ</th>\n",
       "      <th>confort</th>\n",
       "      <th>periode</th>\n",
       "      <th>meteo</th>\n",
       "      <th>poids</th>\n",
       "    </tr>\n",
       "  </thead>\n",
       "  <tbody>\n",
       "    <tr>\n",
       "      <th>0</th>\n",
       "      <td>2019/11/09 10:58:45 AM UTC+1</td>\n",
       "      <td>18-26 ans</td>\n",
       "      <td>Danemark</td>\n",
       "      <td>7</td>\n",
       "      <td>Roumanie</td>\n",
       "      <td>9</td>\n",
       "      <td>Royaume-Uni</td>\n",
       "      <td>8</td>\n",
       "      <td>Voyage n°3</td>\n",
       "      <td>Voyage n°1</td>\n",
       "      <td>Voyage n°1;Voyage n°2;Voyage n°3</td>\n",
       "      <td>Voyage n°1;Voyage n°3</td>\n",
       "      <td>Voyage n°2;Voyage n°3</td>\n",
       "      <td>Voyage n°2;Voyage n°3</td>\n",
       "      <td>Le coût;Le paysage;Les activités;La météo</td>\n",
       "    </tr>\n",
       "    <tr>\n",
       "      <th>1</th>\n",
       "      <td>2019/11/09 11:15:01 AM UTC+1</td>\n",
       "      <td>27-39 ans</td>\n",
       "      <td>italie</td>\n",
       "      <td>8</td>\n",
       "      <td>portugal</td>\n",
       "      <td>7</td>\n",
       "      <td>états-unis</td>\n",
       "      <td>8</td>\n",
       "      <td>Voyage n°1;Voyage n°2</td>\n",
       "      <td>Voyage n°1;Voyage n°2</td>\n",
       "      <td>Voyage n°3</td>\n",
       "      <td>Voyage n°2;Voyage n°3</td>\n",
       "      <td>Voyage n°1;Voyage n°2;Voyage n°3</td>\n",
       "      <td>Voyage n°1;Voyage n°2</td>\n",
       "      <td>Le coût;Le paysage;Les activités;La météo</td>\n",
       "    </tr>\n",
       "  </tbody>\n",
       "</table>\n",
       "</div>"
      ],
      "text/plain": [
       "                           None  age_group   voyage1  notev1   voyage2  \\\n",
       "0  2019/11/09 10:58:45 AM UTC+1  18-26 ans  Danemark       7  Roumanie   \n",
       "1  2019/11/09 11:15:01 AM UTC+1  27-39 ans    italie       8  portugal   \n",
       "\n",
       "   notev2      voyage3  notev3                   cout                paysage  \\\n",
       "0       9  Royaume-Uni       8             Voyage n°3             Voyage n°1   \n",
       "1       7  états-unis        8  Voyage n°1;Voyage n°2  Voyage n°1;Voyage n°2   \n",
       "\n",
       "                              activ                confort  \\\n",
       "0  Voyage n°1;Voyage n°2;Voyage n°3  Voyage n°1;Voyage n°3   \n",
       "1                        Voyage n°3  Voyage n°2;Voyage n°3   \n",
       "\n",
       "                            periode                  meteo  \\\n",
       "0             Voyage n°2;Voyage n°3  Voyage n°2;Voyage n°3   \n",
       "1  Voyage n°1;Voyage n°2;Voyage n°3  Voyage n°1;Voyage n°2   \n",
       "\n",
       "                                       poids  \n",
       "0  Le coût;Le paysage;Les activités;La météo  \n",
       "1  Le coût;Le paysage;Les activités;La météo  "
      ]
     },
     "execution_count": 10,
     "metadata": {},
     "output_type": "execute_result"
    }
   ],
   "source": [
    "data_travel.head(2)"
   ]
  },
  {
   "cell_type": "code",
   "execution_count": 11,
   "metadata": {},
   "outputs": [
    {
     "data": {
      "text/html": [
       "<div>\n",
       "<style scoped>\n",
       "    .dataframe tbody tr th:only-of-type {\n",
       "        vertical-align: middle;\n",
       "    }\n",
       "\n",
       "    .dataframe tbody tr th {\n",
       "        vertical-align: top;\n",
       "    }\n",
       "\n",
       "    .dataframe thead th {\n",
       "        text-align: right;\n",
       "    }\n",
       "</style>\n",
       "<table border=\"1\" class=\"dataframe\">\n",
       "  <thead>\n",
       "    <tr style=\"text-align: right;\">\n",
       "      <th></th>\n",
       "      <th>Pays</th>\n",
       "      <th>ISO2</th>\n",
       "      <th>mean_temp</th>\n",
       "      <th>mean_rain</th>\n",
       "      <th>budget</th>\n",
       "      <th>language</th>\n",
       "      <th>visa_required</th>\n",
       "      <th>continent</th>\n",
       "      <th>CountryId</th>\n",
       "    </tr>\n",
       "  </thead>\n",
       "  <tbody>\n",
       "    <tr>\n",
       "      <th>0</th>\n",
       "      <td>Afghanistan</td>\n",
       "      <td>AF</td>\n",
       "      <td>16.9</td>\n",
       "      <td>358.0</td>\n",
       "      <td>37.0</td>\n",
       "      <td>Persan, Pachto (pachtou)</td>\n",
       "      <td>OUI</td>\n",
       "      <td>Asie</td>\n",
       "      <td>0</td>\n",
       "    </tr>\n",
       "    <tr>\n",
       "      <th>1</th>\n",
       "      <td>Îles Aland</td>\n",
       "      <td>AX</td>\n",
       "      <td>6.3</td>\n",
       "      <td>529.4</td>\n",
       "      <td>NaN</td>\n",
       "      <td>Suédois</td>\n",
       "      <td>?</td>\n",
       "      <td>Europe</td>\n",
       "      <td>1</td>\n",
       "    </tr>\n",
       "  </tbody>\n",
       "</table>\n",
       "</div>"
      ],
      "text/plain": [
       "          Pays ISO2  mean_temp  mean_rain  budget                  language  \\\n",
       "0  Afghanistan   AF       16.9      358.0    37.0  Persan, Pachto (pachtou)   \n",
       "1   Îles Aland   AX        6.3      529.4     NaN                   Suédois   \n",
       "\n",
       "  visa_required continent  CountryId  \n",
       "0           OUI      Asie          0  \n",
       "1             ?    Europe          1  "
      ]
     },
     "execution_count": 11,
     "metadata": {},
     "output_type": "execute_result"
    }
   ],
   "source": [
    "data_country.head(2)"
   ]
  },
  {
   "cell_type": "code",
   "execution_count": 12,
   "metadata": {},
   "outputs": [
    {
     "data": {
      "text/html": [
       "<div>\n",
       "<style scoped>\n",
       "    .dataframe tbody tr th:only-of-type {\n",
       "        vertical-align: middle;\n",
       "    }\n",
       "\n",
       "    .dataframe tbody tr th {\n",
       "        vertical-align: top;\n",
       "    }\n",
       "\n",
       "    .dataframe thead th {\n",
       "        text-align: right;\n",
       "    }\n",
       "</style>\n",
       "<table border=\"1\" class=\"dataframe\">\n",
       "  <thead>\n",
       "    <tr style=\"text-align: right;\">\n",
       "      <th></th>\n",
       "      <th>Unnamed: 0</th>\n",
       "      <th>UserId</th>\n",
       "      <th>voyage</th>\n",
       "      <th>note</th>\n",
       "      <th>cout</th>\n",
       "      <th>paysage</th>\n",
       "      <th>activ</th>\n",
       "      <th>confort</th>\n",
       "      <th>periode</th>\n",
       "      <th>meteo</th>\n",
       "      <th>...</th>\n",
       "      <th>paysage_p</th>\n",
       "      <th>activ_p</th>\n",
       "      <th>confort_p</th>\n",
       "      <th>periode_p</th>\n",
       "      <th>meteo_p</th>\n",
       "      <th>18-26 ans</th>\n",
       "      <th>27-39 ans</th>\n",
       "      <th>40-60 ans</th>\n",
       "      <th>moins de 18 ans</th>\n",
       "      <th>plus de 60 ans</th>\n",
       "    </tr>\n",
       "  </thead>\n",
       "  <tbody>\n",
       "    <tr>\n",
       "      <th>0</th>\n",
       "      <td>0</td>\n",
       "      <td>0</td>\n",
       "      <td>Danemark</td>\n",
       "      <td>7</td>\n",
       "      <td>0</td>\n",
       "      <td>1</td>\n",
       "      <td>1</td>\n",
       "      <td>1</td>\n",
       "      <td>0</td>\n",
       "      <td>0</td>\n",
       "      <td>...</td>\n",
       "      <td>2</td>\n",
       "      <td>2</td>\n",
       "      <td>1</td>\n",
       "      <td>1</td>\n",
       "      <td>2</td>\n",
       "      <td>1</td>\n",
       "      <td>0</td>\n",
       "      <td>0</td>\n",
       "      <td>0</td>\n",
       "      <td>0</td>\n",
       "    </tr>\n",
       "    <tr>\n",
       "      <th>1</th>\n",
       "      <td>1</td>\n",
       "      <td>0</td>\n",
       "      <td>Roumanie</td>\n",
       "      <td>9</td>\n",
       "      <td>0</td>\n",
       "      <td>0</td>\n",
       "      <td>1</td>\n",
       "      <td>0</td>\n",
       "      <td>1</td>\n",
       "      <td>1</td>\n",
       "      <td>...</td>\n",
       "      <td>2</td>\n",
       "      <td>2</td>\n",
       "      <td>1</td>\n",
       "      <td>1</td>\n",
       "      <td>2</td>\n",
       "      <td>1</td>\n",
       "      <td>0</td>\n",
       "      <td>0</td>\n",
       "      <td>0</td>\n",
       "      <td>0</td>\n",
       "    </tr>\n",
       "    <tr>\n",
       "      <th>2</th>\n",
       "      <td>2</td>\n",
       "      <td>0</td>\n",
       "      <td>Royaume-Uni</td>\n",
       "      <td>8</td>\n",
       "      <td>1</td>\n",
       "      <td>0</td>\n",
       "      <td>1</td>\n",
       "      <td>1</td>\n",
       "      <td>1</td>\n",
       "      <td>1</td>\n",
       "      <td>...</td>\n",
       "      <td>2</td>\n",
       "      <td>2</td>\n",
       "      <td>1</td>\n",
       "      <td>1</td>\n",
       "      <td>2</td>\n",
       "      <td>1</td>\n",
       "      <td>0</td>\n",
       "      <td>0</td>\n",
       "      <td>0</td>\n",
       "      <td>0</td>\n",
       "    </tr>\n",
       "    <tr>\n",
       "      <th>3</th>\n",
       "      <td>3</td>\n",
       "      <td>1</td>\n",
       "      <td>italie</td>\n",
       "      <td>8</td>\n",
       "      <td>1</td>\n",
       "      <td>1</td>\n",
       "      <td>0</td>\n",
       "      <td>0</td>\n",
       "      <td>1</td>\n",
       "      <td>1</td>\n",
       "      <td>...</td>\n",
       "      <td>2</td>\n",
       "      <td>2</td>\n",
       "      <td>1</td>\n",
       "      <td>1</td>\n",
       "      <td>2</td>\n",
       "      <td>0</td>\n",
       "      <td>1</td>\n",
       "      <td>0</td>\n",
       "      <td>0</td>\n",
       "      <td>0</td>\n",
       "    </tr>\n",
       "    <tr>\n",
       "      <th>4</th>\n",
       "      <td>4</td>\n",
       "      <td>1</td>\n",
       "      <td>portugal</td>\n",
       "      <td>7</td>\n",
       "      <td>1</td>\n",
       "      <td>1</td>\n",
       "      <td>0</td>\n",
       "      <td>1</td>\n",
       "      <td>1</td>\n",
       "      <td>1</td>\n",
       "      <td>...</td>\n",
       "      <td>2</td>\n",
       "      <td>2</td>\n",
       "      <td>1</td>\n",
       "      <td>1</td>\n",
       "      <td>2</td>\n",
       "      <td>0</td>\n",
       "      <td>1</td>\n",
       "      <td>0</td>\n",
       "      <td>0</td>\n",
       "      <td>0</td>\n",
       "    </tr>\n",
       "  </tbody>\n",
       "</table>\n",
       "<p>5 rows × 21 columns</p>\n",
       "</div>"
      ],
      "text/plain": [
       "   Unnamed: 0  UserId       voyage  note  cout  paysage  activ  confort  \\\n",
       "0           0       0     Danemark     7     0        1      1        1   \n",
       "1           1       0     Roumanie     9     0        0      1        0   \n",
       "2           2       0  Royaume-Uni     8     1        0      1        1   \n",
       "3           3       1       italie     8     1        1      0        0   \n",
       "4           4       1     portugal     7     1        1      0        1   \n",
       "\n",
       "   periode  meteo  ...  paysage_p  activ_p  confort_p  periode_p  meteo_p  \\\n",
       "0        0      0  ...          2        2          1          1        2   \n",
       "1        1      1  ...          2        2          1          1        2   \n",
       "2        1      1  ...          2        2          1          1        2   \n",
       "3        1      1  ...          2        2          1          1        2   \n",
       "4        1      1  ...          2        2          1          1        2   \n",
       "\n",
       "   18-26 ans  27-39 ans  40-60 ans  moins de 18 ans  plus de 60 ans  \n",
       "0          1          0          0                0               0  \n",
       "1          1          0          0                0               0  \n",
       "2          1          0          0                0               0  \n",
       "3          0          1          0                0               0  \n",
       "4          0          1          0                0               0  \n",
       "\n",
       "[5 rows x 21 columns]"
      ]
     },
     "execution_count": 12,
     "metadata": {},
     "output_type": "execute_result"
    }
   ],
   "source": [
    "data_reviews.head()"
   ]
  },
  {
   "cell_type": "markdown",
   "metadata": {},
   "source": [
    "<h3> Data cleaning"
   ]
  },
  {
   "cell_type": "code",
   "execution_count": 16,
   "metadata": {},
   "outputs": [],
   "source": [
    "# Getting rid of special characters\n",
    "\n",
    "def clean_country(country):\n",
    "    return country.lower().strip().replace(\"é\", \"e\").replace(\"è\",\"e\").replace(\"ï\",\"i\").replace('î','i').replace(\"-\",\" \").replace(\"ç\", \"c\").replace(\"ô\",\"o\").capitalize().strip()"
   ]
  },
  {
   "cell_type": "markdown",
   "metadata": {},
   "source": [
    "After building a cleaning function, we need to apply it to the 2 datasets:"
   ]
  },
  {
   "cell_type": "code",
   "execution_count": 17,
   "metadata": {},
   "outputs": [],
   "source": [
    "data_reviews['voyage'] = data_reviews['voyage'].apply(clean_country)"
   ]
  },
  {
   "cell_type": "code",
   "execution_count": 48,
   "metadata": {},
   "outputs": [],
   "source": [
    "data_country['Pays'] = data_country['Pays'].apply(clean_country)"
   ]
  },
  {
   "cell_type": "code",
   "execution_count": 18,
   "metadata": {
    "scrolled": false
   },
   "outputs": [
    {
     "data": {
      "text/plain": [
       "array(['Danemark', 'Roumanie', 'Royaume uni', 'Italie', 'Portugal',\n",
       "       'Etats unis', 'Norvege', 'Hongrie', 'Cuba', 'Espagne', 'Pays bas',\n",
       "       'Thailande', 'Tanzanie', 'Japon', 'Kenya', 'Philippines',\n",
       "       'Republique tcheque', 'Allemagne', 'France', 'Croatie',\n",
       "       'Sainte lucie', 'Madagascar', 'Egypte', 'Perou', 'Bresil',\n",
       "       'Cambodge', 'Guadeloupe', 'Tunisie', 'Canarie', 'Irlande',\n",
       "       'Barbade', 'Grece', 'Belgique', 'Dominique', 'New york',\n",
       "       'Martinique', 'Bulgarie', 'Grenade', 'Afrique du sud', 'Canada',\n",
       "       'Vietnam', 'Crete', 'Sri lanka', 'Maroc', 'Senegal', 'Malte',\n",
       "       'Cameroun', 'Suisse', 'Australie', 'Mexique', 'Jamaique', 'Suede',\n",
       "       'Puerto rico', 'Inde', \"Cote d'ivoire\", 'Benin', 'Nepal',\n",
       "       'Republique dominicaine', 'Maurice', 'Hong kong', 'Malaisie',\n",
       "       'Saint martin', 'Guyane', 'Luxembourg', 'Autriche', 'Islande',\n",
       "       'Etat unis', 'Guyane francaise', 'Paris', 'Curacao',\n",
       "       'Republique domincaine', 'Singapour', 'Indonesie',\n",
       "       'Emirats arabes unis', 'Antigua', 'Panama'], dtype=object)"
      ]
     },
     "execution_count": 18,
     "metadata": {},
     "output_type": "execute_result"
    }
   ],
   "source": [
    "data_reviews['voyage'].unique()"
   ]
  },
  {
   "cell_type": "markdown",
   "metadata": {},
   "source": [
    "Now we have cleaned our data, there are only one way that our countries are written."
   ]
  },
  {
   "cell_type": "markdown",
   "metadata": {},
   "source": [
    "<h2> Analysis"
   ]
  },
  {
   "cell_type": "markdown",
   "metadata": {},
   "source": [
    "<h3> Global Overview"
   ]
  },
  {
   "cell_type": "markdown",
   "metadata": {},
   "source": [
    "To begin with, what's the age group distribution ? "
   ]
  },
  {
   "cell_type": "code",
   "execution_count": 19,
   "metadata": {
    "scrolled": false
   },
   "outputs": [
    {
     "data": {
      "image/png": "[encoded data removed]",
      "text/plain": [
       "<Figure size 720x432 with 1 Axes>"
      ]
     },
     "metadata": {
      "needs_background": "light"
     },
     "output_type": "display_data"
    }
   ],
   "source": [
    "plt.figure(figsize=(10,6))\n",
    "\n",
    "sns.countplot(data_travel['age_group'])\n",
    "plt.title('Age group distribution')\n",
    "\n",
    "plt.show()"
   ]
  },
  {
   "cell_type": "markdown",
   "metadata": {},
   "source": [
    "<h3> Top 10 visited countries"
   ]
  },
  {
   "cell_type": "code",
   "execution_count": 20,
   "metadata": {},
   "outputs": [
    {
     "data": {
      "text/plain": [
       "Espagne        49\n",
       "Italie         36\n",
       "Guadeloupe     34\n",
       "Etats unis     31\n",
       "France         24\n",
       "Royaume uni    22\n",
       "Pays bas       17\n",
       "Allemagne      16\n",
       "Portugal       15\n",
       "Suisse         10\n",
       "Name: voyage, dtype: int64"
      ]
     },
     "execution_count": 20,
     "metadata": {},
     "output_type": "execute_result"
    }
   ],
   "source": [
    "most_visited_country = data_reviews['voyage'].value_counts().iloc[:10]\n",
    "most_visited_country"
   ]
  },
  {
   "cell_type": "code",
   "execution_count": 21,
   "metadata": {
    "scrolled": false
   },
   "outputs": [
    {
     "data": {
      "image/png": "[encoded data removed]",
      "text/plain": [
       "<Figure size 720x288 with 1 Axes>"
      ]
     },
     "metadata": {
      "needs_background": "light"
     },
     "output_type": "display_data"
    }
   ],
   "source": [
    "plt.figure(figsize=(10,4))\n",
    "\n",
    "sns.barplot(most_visited_country.index,\n",
    "            most_visited_country.values)\n",
    "plt.tight_layout()\n",
    "plt.title('Top 10 countries visited by the reviewers')\n",
    "\n",
    "plt.show()"
   ]
  },
  {
   "cell_type": "code",
   "execution_count": 22,
   "metadata": {},
   "outputs": [],
   "source": [
    "data_10 = data_reviews[data_reviews['voyage'].isin(most_visited_country.index)]"
   ]
  },
  {
   "cell_type": "code",
   "execution_count": 23,
   "metadata": {},
   "outputs": [
    {
     "data": {
      "text/plain": [
       "(254, 21)"
      ]
     },
     "execution_count": 23,
     "metadata": {},
     "output_type": "execute_result"
    }
   ],
   "source": [
    "data_10.shape"
   ]
  },
  {
   "cell_type": "code",
   "execution_count": 24,
   "metadata": {},
   "outputs": [
    {
     "data": {
      "text/plain": [
       "array(['Royaume uni', 'Italie', 'Portugal', 'Etats unis', 'Espagne',\n",
       "       'Pays bas', 'Allemagne', 'France', 'Guadeloupe', 'Suisse'],\n",
       "      dtype=object)"
      ]
     },
     "execution_count": 24,
     "metadata": {},
     "output_type": "execute_result"
    }
   ],
   "source": [
    "data_10['voyage'].unique()"
   ]
  },
  {
   "cell_type": "code",
   "execution_count": 25,
   "metadata": {
    "scrolled": true
   },
   "outputs": [
    {
     "data": {
      "text/plain": [
       "[array(['Royaume uni', 'Espagne', 'Portugal', 'Italie', 'Portugal',\n",
       "        'Guadeloupe', 'Etats unis', 'Pays bas', 'Royaume uni', 'Allemagne',\n",
       "        'Suisse', 'Pays bas', 'Royaume uni', 'Portugal', 'Guadeloupe',\n",
       "        'Allemagne', 'Espagne', 'Pays bas', 'Espagne', 'Royaume uni',\n",
       "        'Etats unis', 'Pays bas', 'Espagne', 'Royaume uni', 'Espagne',\n",
       "        'Pays bas', 'Guadeloupe', 'Guadeloupe', 'France', 'Italie',\n",
       "        'Etats unis', 'Suisse', 'Royaume uni', 'Espagne', 'Allemagne',\n",
       "        'Guadeloupe', 'Pays bas', 'Guadeloupe', 'Espagne', 'Etats unis',\n",
       "        'Espagne', 'Guadeloupe', 'Guadeloupe', 'France', 'Espagne',\n",
       "        'Guadeloupe', 'Espagne', 'Guadeloupe', 'France', 'Italie',\n",
       "        'Guadeloupe', 'France', 'Espagne', 'Guadeloupe', 'Royaume uni',\n",
       "        'Espagne', 'Royaume uni', 'Guadeloupe', 'Espagne', 'Etats unis',\n",
       "        'Espagne', 'Pays bas', 'Italie', 'Espagne', 'Italie', 'Italie',\n",
       "        'Italie', 'Allemagne', 'Portugal', 'Guadeloupe', 'Espagne',\n",
       "        'Espagne', 'Espagne', 'Royaume uni', 'Espagne', 'Pays bas',\n",
       "        'Guadeloupe', 'Suisse', 'Royaume uni', 'Guadeloupe', 'Italie',\n",
       "        'Pays bas', 'Etats unis', 'Espagne', 'Etats unis', 'Etats unis',\n",
       "        'Allemagne', 'France', 'France', 'Guadeloupe', 'Etats unis',\n",
       "        'Espagne', 'Royaume uni', 'Portugal', 'Espagne', 'Italie',\n",
       "        'France', 'France', 'France', 'Guadeloupe', 'Pays bas', 'Espagne',\n",
       "        'France', 'Etats unis', 'Suisse', 'Italie', 'Guadeloupe',\n",
       "        'Etats unis', 'Allemagne', 'Espagne', 'Pays bas', 'Royaume uni',\n",
       "        'Etats unis', 'Espagne', 'France', 'France', 'Italie', 'Italie',\n",
       "        'Suisse', 'Espagne'], dtype=object),\n",
       " array(['Italie', 'Portugal', 'Etats unis', 'Etats unis', 'Espagne',\n",
       "        'Portugal', 'Pays bas', 'Espagne', 'Etats unis', 'Etats unis',\n",
       "        'Italie', 'Espagne', 'Allemagne', 'Royaume uni', 'Espagne',\n",
       "        'Allemagne', 'Espagne', 'Etats unis', 'Italie', 'Pays bas',\n",
       "        'Italie', 'Portugal', 'Pays bas', 'Portugal', 'Guadeloupe',\n",
       "        'Espagne', 'Italie', 'Italie', 'Espagne', 'Royaume uni', 'France',\n",
       "        'Guadeloupe', 'Allemagne', 'Allemagne', 'Italie', 'Espagne',\n",
       "        'Espagne', 'Italie', 'Italie', 'Royaume uni', 'Royaume uni',\n",
       "        'Etats unis', 'Italie', 'Etats unis', 'Suisse', 'Royaume uni',\n",
       "        'Italie', 'Italie', 'Royaume uni', 'Espagne', 'Italie',\n",
       "        'Allemagne', 'Etats unis', 'France', 'Portugal', 'Guadeloupe',\n",
       "        'Royaume uni', 'Guadeloupe', 'Etats unis', 'Guadeloupe', 'Espagne',\n",
       "        'Etats unis', 'Italie', 'Allemagne', 'Italie', 'Suisse',\n",
       "        'Etats unis', 'Suisse', 'Suisse', 'Royaume uni', 'Espagne',\n",
       "        'Allemagne', 'Espagne', 'Italie', 'Portugal', 'Etats unis',\n",
       "        'Guadeloupe', 'France', 'Etats unis', 'Guadeloupe', 'Pays bas',\n",
       "        'Portugal', 'Guadeloupe', 'Espagne', 'Italie', 'Italie',\n",
       "        'Portugal', 'Portugal', 'Allemagne', 'Allemagne', 'Pays bas',\n",
       "        'Suisse', 'Italie', 'Etats unis', 'Etats unis', 'Italie',\n",
       "        'Espagne', 'Italie'], dtype=object),\n",
       " array(['France', 'Guadeloupe', 'France', 'Guadeloupe', 'Guadeloupe',\n",
       "        'Espagne', 'Italie', 'France', 'Etats unis', 'Royaume uni',\n",
       "        'Espagne', 'Guadeloupe', 'Espagne', 'Italie', 'Guadeloupe',\n",
       "        'Guadeloupe', 'Espagne', 'France', 'Etats unis', 'Espagne',\n",
       "        'Portugal', 'Pays bas', 'Etats unis', 'France', 'Royaume uni',\n",
       "        'Allemagne', 'Italie', 'Espagne', 'France'], dtype=object),\n",
       " array(['Espagne', 'Guadeloupe', 'Etats unis', 'France', 'Espagne',\n",
       "        'France', 'France'], dtype=object),\n",
       " array([], dtype=object)]"
      ]
     },
     "execution_count": 25,
     "metadata": {},
     "output_type": "execute_result"
    }
   ],
   "source": [
    "visited_countries = [data_10.loc[data_10['18-26 ans'] == 1]['voyage'].values, \n",
    "                     data_10.loc[data_10['27-39 ans'] == 1]['voyage'].values,\n",
    "                     data_10.loc[data_10['40-60 ans'] == 1]['voyage'].values,\n",
    "                     data_10.loc[data_10['moins de 18 ans'] == 1]['voyage'].values,\n",
    "                     data_10.loc[data_10['plus de 60 ans'] == 1]['voyage'].values]\n",
    "visited_countries"
   ]
  },
  {
   "cell_type": "code",
   "execution_count": 128,
   "metadata": {
    "scrolled": false
   },
   "outputs": [
    {
     "data": {
      "image/png": "[encoded data removed]",
      "text/plain": [
       "<Figure size 864x576 with 1 Axes>"
      ]
     },
     "metadata": {
      "needs_background": "light"
     },
     "output_type": "display_data"
    }
   ],
   "source": [
    "plt.figure(figsize=(12,8))\n",
    "colors = ['18-26', '27-39', '40-60', '- de 18', '+ de 60']\n",
    "plt.hist(visited_countries, stacked=True, label=colors, alpha=0.5, rwidth=0.85)\n",
    "plt.legend()\n",
    "plt.title('Age group repartition depending on the destination')\n",
    "plt.xlabel('Country')\n",
    "plt.xticks(rotation='45')\n",
    "plt.yticks(np.arange(0,55,5))\n",
    "plt.show()"
   ]
  },
  {
   "cell_type": "markdown",
   "metadata": {},
   "source": [
    "<h3> Why Spain appears to be the most visited country ? "
   ]
  },
  {
   "cell_type": "code",
   "execution_count": 26,
   "metadata": {},
   "outputs": [],
   "source": [
    "data_spain = data_reviews.loc[data_reviews['voyage'] == 'Espagne']"
   ]
  },
  {
   "cell_type": "code",
   "execution_count": 27,
   "metadata": {},
   "outputs": [
    {
     "data": {
      "text/html": [
       "<div>\n",
       "<style scoped>\n",
       "    .dataframe tbody tr th:only-of-type {\n",
       "        vertical-align: middle;\n",
       "    }\n",
       "\n",
       "    .dataframe tbody tr th {\n",
       "        vertical-align: top;\n",
       "    }\n",
       "\n",
       "    .dataframe thead th {\n",
       "        text-align: right;\n",
       "    }\n",
       "</style>\n",
       "<table border=\"1\" class=\"dataframe\">\n",
       "  <thead>\n",
       "    <tr style=\"text-align: right;\">\n",
       "      <th></th>\n",
       "      <th>Unnamed: 0</th>\n",
       "      <th>UserId</th>\n",
       "      <th>voyage</th>\n",
       "      <th>note</th>\n",
       "      <th>cout</th>\n",
       "      <th>paysage</th>\n",
       "      <th>activ</th>\n",
       "      <th>confort</th>\n",
       "      <th>periode</th>\n",
       "      <th>meteo</th>\n",
       "      <th>...</th>\n",
       "      <th>paysage_p</th>\n",
       "      <th>activ_p</th>\n",
       "      <th>confort_p</th>\n",
       "      <th>periode_p</th>\n",
       "      <th>meteo_p</th>\n",
       "      <th>18-26 ans</th>\n",
       "      <th>27-39 ans</th>\n",
       "      <th>40-60 ans</th>\n",
       "      <th>moins de 18 ans</th>\n",
       "      <th>plus de 60 ans</th>\n",
       "    </tr>\n",
       "  </thead>\n",
       "  <tbody>\n",
       "    <tr>\n",
       "      <th>11</th>\n",
       "      <td>11</td>\n",
       "      <td>3</td>\n",
       "      <td>Espagne</td>\n",
       "      <td>8</td>\n",
       "      <td>1</td>\n",
       "      <td>1</td>\n",
       "      <td>1</td>\n",
       "      <td>1</td>\n",
       "      <td>1</td>\n",
       "      <td>1</td>\n",
       "      <td>...</td>\n",
       "      <td>2</td>\n",
       "      <td>2</td>\n",
       "      <td>2</td>\n",
       "      <td>1</td>\n",
       "      <td>2</td>\n",
       "      <td>0</td>\n",
       "      <td>1</td>\n",
       "      <td>0</td>\n",
       "      <td>0</td>\n",
       "      <td>0</td>\n",
       "    </tr>\n",
       "    <tr>\n",
       "      <th>14</th>\n",
       "      <td>14</td>\n",
       "      <td>4</td>\n",
       "      <td>Espagne</td>\n",
       "      <td>8</td>\n",
       "      <td>1</td>\n",
       "      <td>1</td>\n",
       "      <td>0</td>\n",
       "      <td>0</td>\n",
       "      <td>0</td>\n",
       "      <td>1</td>\n",
       "      <td>...</td>\n",
       "      <td>2</td>\n",
       "      <td>1</td>\n",
       "      <td>1</td>\n",
       "      <td>1</td>\n",
       "      <td>2</td>\n",
       "      <td>0</td>\n",
       "      <td>1</td>\n",
       "      <td>0</td>\n",
       "      <td>0</td>\n",
       "      <td>0</td>\n",
       "    </tr>\n",
       "    <tr>\n",
       "      <th>23</th>\n",
       "      <td>23</td>\n",
       "      <td>7</td>\n",
       "      <td>Espagne</td>\n",
       "      <td>8</td>\n",
       "      <td>0</td>\n",
       "      <td>1</td>\n",
       "      <td>0</td>\n",
       "      <td>0</td>\n",
       "      <td>0</td>\n",
       "      <td>0</td>\n",
       "      <td>...</td>\n",
       "      <td>2</td>\n",
       "      <td>2</td>\n",
       "      <td>1</td>\n",
       "      <td>1</td>\n",
       "      <td>2</td>\n",
       "      <td>0</td>\n",
       "      <td>1</td>\n",
       "      <td>0</td>\n",
       "      <td>0</td>\n",
       "      <td>0</td>\n",
       "    </tr>\n",
       "    <tr>\n",
       "      <th>30</th>\n",
       "      <td>30</td>\n",
       "      <td>10</td>\n",
       "      <td>Espagne</td>\n",
       "      <td>9</td>\n",
       "      <td>0</td>\n",
       "      <td>1</td>\n",
       "      <td>0</td>\n",
       "      <td>1</td>\n",
       "      <td>0</td>\n",
       "      <td>1</td>\n",
       "      <td>...</td>\n",
       "      <td>2</td>\n",
       "      <td>1</td>\n",
       "      <td>2</td>\n",
       "      <td>1</td>\n",
       "      <td>2</td>\n",
       "      <td>0</td>\n",
       "      <td>1</td>\n",
       "      <td>0</td>\n",
       "      <td>0</td>\n",
       "      <td>0</td>\n",
       "    </tr>\n",
       "    <tr>\n",
       "      <th>40</th>\n",
       "      <td>40</td>\n",
       "      <td>13</td>\n",
       "      <td>Espagne</td>\n",
       "      <td>9</td>\n",
       "      <td>0</td>\n",
       "      <td>0</td>\n",
       "      <td>0</td>\n",
       "      <td>1</td>\n",
       "      <td>0</td>\n",
       "      <td>1</td>\n",
       "      <td>...</td>\n",
       "      <td>2</td>\n",
       "      <td>2</td>\n",
       "      <td>2</td>\n",
       "      <td>2</td>\n",
       "      <td>1</td>\n",
       "      <td>0</td>\n",
       "      <td>1</td>\n",
       "      <td>0</td>\n",
       "      <td>0</td>\n",
       "      <td>0</td>\n",
       "    </tr>\n",
       "  </tbody>\n",
       "</table>\n",
       "<p>5 rows × 21 columns</p>\n",
       "</div>"
      ],
      "text/plain": [
       "    Unnamed: 0  UserId   voyage  note  cout  paysage  activ  confort  periode  \\\n",
       "11          11       3  Espagne     8     1        1      1        1        1   \n",
       "14          14       4  Espagne     8     1        1      0        0        0   \n",
       "23          23       7  Espagne     8     0        1      0        0        0   \n",
       "30          30      10  Espagne     9     0        1      0        1        0   \n",
       "40          40      13  Espagne     9     0        0      0        1        0   \n",
       "\n",
       "    meteo  ...  paysage_p  activ_p  confort_p  periode_p  meteo_p  18-26 ans  \\\n",
       "11      1  ...          2        2          2          1        2          0   \n",
       "14      1  ...          2        1          1          1        2          0   \n",
       "23      0  ...          2        2          1          1        2          0   \n",
       "30      1  ...          2        1          2          1        2          0   \n",
       "40      1  ...          2        2          2          2        1          0   \n",
       "\n",
       "    27-39 ans  40-60 ans  moins de 18 ans  plus de 60 ans  \n",
       "11          1          0                0               0  \n",
       "14          1          0                0               0  \n",
       "23          1          0                0               0  \n",
       "30          1          0                0               0  \n",
       "40          1          0                0               0  \n",
       "\n",
       "[5 rows x 21 columns]"
      ]
     },
     "execution_count": 27,
     "metadata": {},
     "output_type": "execute_result"
    }
   ],
   "source": [
    "data_spain.head()"
   ]
  },
  {
   "cell_type": "code",
   "execution_count": 28,
   "metadata": {},
   "outputs": [
    {
     "data": {
      "text/plain": [
       "0.6938775510204082"
      ]
     },
     "execution_count": 28,
     "metadata": {},
     "output_type": "execute_result"
    }
   ],
   "source": [
    "data_spain['cout'].mean()"
   ]
  },
  {
   "cell_type": "code",
   "execution_count": 29,
   "metadata": {
    "scrolled": true
   },
   "outputs": [
    {
     "data": {
      "text/html": [
       "<div>\n",
       "<style scoped>\n",
       "    .dataframe tbody tr th:only-of-type {\n",
       "        vertical-align: middle;\n",
       "    }\n",
       "\n",
       "    .dataframe tbody tr th {\n",
       "        vertical-align: top;\n",
       "    }\n",
       "\n",
       "    .dataframe thead th {\n",
       "        text-align: right;\n",
       "    }\n",
       "</style>\n",
       "<table border=\"1\" class=\"dataframe\">\n",
       "  <thead>\n",
       "    <tr style=\"text-align: right;\">\n",
       "      <th></th>\n",
       "      <th>Pays</th>\n",
       "      <th>ISO2</th>\n",
       "      <th>mean_temp</th>\n",
       "      <th>mean_rain</th>\n",
       "      <th>budget</th>\n",
       "      <th>language</th>\n",
       "      <th>visa_required</th>\n",
       "      <th>continent</th>\n",
       "      <th>CountryId</th>\n",
       "    </tr>\n",
       "  </thead>\n",
       "  <tbody>\n",
       "    <tr>\n",
       "      <th>74</th>\n",
       "      <td>France</td>\n",
       "      <td>FR</td>\n",
       "      <td>11.4</td>\n",
       "      <td>750.3</td>\n",
       "      <td>60.0</td>\n",
       "      <td>Français</td>\n",
       "      <td>?</td>\n",
       "      <td>Europe</td>\n",
       "      <td>74</td>\n",
       "    </tr>\n",
       "    <tr>\n",
       "      <th>202</th>\n",
       "      <td>Espagne</td>\n",
       "      <td>ES</td>\n",
       "      <td>15.3</td>\n",
       "      <td>512.6</td>\n",
       "      <td>65.0</td>\n",
       "      <td>Espagnol, castillan</td>\n",
       "      <td>NON</td>\n",
       "      <td>Europe</td>\n",
       "      <td>202</td>\n",
       "    </tr>\n",
       "  </tbody>\n",
       "</table>\n",
       "</div>"
      ],
      "text/plain": [
       "        Pays ISO2  mean_temp  mean_rain  budget             language  \\\n",
       "74    France   FR       11.4      750.3    60.0             Français   \n",
       "202  Espagne   ES       15.3      512.6    65.0  Espagnol, castillan   \n",
       "\n",
       "    visa_required continent  CountryId  \n",
       "74              ?    Europe         74  \n",
       "202           NON    Europe        202  "
      ]
     },
     "execution_count": 29,
     "metadata": {},
     "output_type": "execute_result"
    }
   ],
   "source": [
    "data_country.loc[(data_country['Pays'] == 'Espagne') | (data_country['Pays'] == 'France')]"
   ]
  },
  {
   "cell_type": "markdown",
   "metadata": {},
   "source": [
    "Around 70% of the reviewers that went to Spain were satisfied of the cost of living there. This information can be correlated with a review about the cost of living in Spain in 2019.        \n",
    "[source](https://www.ou-et-quand.net/budget/espagne/)"
   ]
  },
  {
   "cell_type": "markdown",
   "metadata": {},
   "source": [
    "![image](https://zupimages.net/up/19/49/49uu.png)"
   ]
  },
  {
   "cell_type": "code",
   "execution_count": 37,
   "metadata": {
    "scrolled": false
   },
   "outputs": [
    {
     "data": {
      "text/html": [
       "<div>\n",
       "<style scoped>\n",
       "    .dataframe tbody tr th:only-of-type {\n",
       "        vertical-align: middle;\n",
       "    }\n",
       "\n",
       "    .dataframe tbody tr th {\n",
       "        vertical-align: top;\n",
       "    }\n",
       "\n",
       "    .dataframe thead th {\n",
       "        text-align: right;\n",
       "    }\n",
       "</style>\n",
       "<table border=\"1\" class=\"dataframe\">\n",
       "  <thead>\n",
       "    <tr style=\"text-align: right;\">\n",
       "      <th></th>\n",
       "      <th>UserId</th>\n",
       "      <th>note</th>\n",
       "      <th>cout</th>\n",
       "      <th>paysage</th>\n",
       "      <th>activ</th>\n",
       "      <th>confort</th>\n",
       "      <th>periode</th>\n",
       "      <th>meteo</th>\n",
       "      <th>cout_p</th>\n",
       "      <th>paysage_p</th>\n",
       "      <th>activ_p</th>\n",
       "      <th>confort_p</th>\n",
       "      <th>periode_p</th>\n",
       "      <th>meteo_p</th>\n",
       "      <th>18-26 ans</th>\n",
       "      <th>27-39 ans</th>\n",
       "      <th>40-60 ans</th>\n",
       "      <th>moins de 18 ans</th>\n",
       "      <th>plus de 60 ans</th>\n",
       "    </tr>\n",
       "  </thead>\n",
       "  <tbody>\n",
       "    <tr>\n",
       "      <th>count</th>\n",
       "      <td>49.000000</td>\n",
       "      <td>49.000000</td>\n",
       "      <td>49.000000</td>\n",
       "      <td>49.000000</td>\n",
       "      <td>49.000000</td>\n",
       "      <td>49.000000</td>\n",
       "      <td>49.000000</td>\n",
       "      <td>49.000000</td>\n",
       "      <td>49.000000</td>\n",
       "      <td>49.000000</td>\n",
       "      <td>49.000000</td>\n",
       "      <td>49.000000</td>\n",
       "      <td>49.000000</td>\n",
       "      <td>49.000000</td>\n",
       "      <td>49.000000</td>\n",
       "      <td>49.000000</td>\n",
       "      <td>49.000000</td>\n",
       "      <td>49.000000</td>\n",
       "      <td>49.0</td>\n",
       "    </tr>\n",
       "    <tr>\n",
       "      <th>mean</th>\n",
       "      <td>74.367347</td>\n",
       "      <td>8.367347</td>\n",
       "      <td>0.693878</td>\n",
       "      <td>0.755102</td>\n",
       "      <td>0.551020</td>\n",
       "      <td>0.510204</td>\n",
       "      <td>0.510204</td>\n",
       "      <td>0.734694</td>\n",
       "      <td>1.734694</td>\n",
       "      <td>1.653061</td>\n",
       "      <td>1.530612</td>\n",
       "      <td>1.428571</td>\n",
       "      <td>1.285714</td>\n",
       "      <td>1.591837</td>\n",
       "      <td>0.530612</td>\n",
       "      <td>0.306122</td>\n",
       "      <td>0.122449</td>\n",
       "      <td>0.040816</td>\n",
       "      <td>0.0</td>\n",
       "    </tr>\n",
       "    <tr>\n",
       "      <th>std</th>\n",
       "      <td>43.261653</td>\n",
       "      <td>1.130890</td>\n",
       "      <td>0.465657</td>\n",
       "      <td>0.434483</td>\n",
       "      <td>0.502545</td>\n",
       "      <td>0.505076</td>\n",
       "      <td>0.505076</td>\n",
       "      <td>0.446071</td>\n",
       "      <td>0.446071</td>\n",
       "      <td>0.480929</td>\n",
       "      <td>0.504234</td>\n",
       "      <td>0.500000</td>\n",
       "      <td>0.456435</td>\n",
       "      <td>0.496587</td>\n",
       "      <td>0.504234</td>\n",
       "      <td>0.465657</td>\n",
       "      <td>0.331201</td>\n",
       "      <td>0.199915</td>\n",
       "      <td>0.0</td>\n",
       "    </tr>\n",
       "    <tr>\n",
       "      <th>min</th>\n",
       "      <td>3.000000</td>\n",
       "      <td>5.000000</td>\n",
       "      <td>0.000000</td>\n",
       "      <td>0.000000</td>\n",
       "      <td>0.000000</td>\n",
       "      <td>0.000000</td>\n",
       "      <td>0.000000</td>\n",
       "      <td>0.000000</td>\n",
       "      <td>1.000000</td>\n",
       "      <td>1.000000</td>\n",
       "      <td>1.000000</td>\n",
       "      <td>1.000000</td>\n",
       "      <td>1.000000</td>\n",
       "      <td>1.000000</td>\n",
       "      <td>0.000000</td>\n",
       "      <td>0.000000</td>\n",
       "      <td>0.000000</td>\n",
       "      <td>0.000000</td>\n",
       "      <td>0.0</td>\n",
       "    </tr>\n",
       "    <tr>\n",
       "      <th>25%</th>\n",
       "      <td>30.000000</td>\n",
       "      <td>8.000000</td>\n",
       "      <td>0.000000</td>\n",
       "      <td>1.000000</td>\n",
       "      <td>0.000000</td>\n",
       "      <td>0.000000</td>\n",
       "      <td>0.000000</td>\n",
       "      <td>0.000000</td>\n",
       "      <td>1.000000</td>\n",
       "      <td>1.000000</td>\n",
       "      <td>1.000000</td>\n",
       "      <td>1.000000</td>\n",
       "      <td>1.000000</td>\n",
       "      <td>1.000000</td>\n",
       "      <td>0.000000</td>\n",
       "      <td>0.000000</td>\n",
       "      <td>0.000000</td>\n",
       "      <td>0.000000</td>\n",
       "      <td>0.0</td>\n",
       "    </tr>\n",
       "    <tr>\n",
       "      <th>50%</th>\n",
       "      <td>81.000000</td>\n",
       "      <td>8.000000</td>\n",
       "      <td>1.000000</td>\n",
       "      <td>1.000000</td>\n",
       "      <td>1.000000</td>\n",
       "      <td>1.000000</td>\n",
       "      <td>1.000000</td>\n",
       "      <td>1.000000</td>\n",
       "      <td>2.000000</td>\n",
       "      <td>2.000000</td>\n",
       "      <td>2.000000</td>\n",
       "      <td>1.000000</td>\n",
       "      <td>1.000000</td>\n",
       "      <td>2.000000</td>\n",
       "      <td>1.000000</td>\n",
       "      <td>0.000000</td>\n",
       "      <td>0.000000</td>\n",
       "      <td>0.000000</td>\n",
       "      <td>0.0</td>\n",
       "    </tr>\n",
       "    <tr>\n",
       "      <th>75%</th>\n",
       "      <td>108.000000</td>\n",
       "      <td>9.000000</td>\n",
       "      <td>1.000000</td>\n",
       "      <td>1.000000</td>\n",
       "      <td>1.000000</td>\n",
       "      <td>1.000000</td>\n",
       "      <td>1.000000</td>\n",
       "      <td>1.000000</td>\n",
       "      <td>2.000000</td>\n",
       "      <td>2.000000</td>\n",
       "      <td>2.000000</td>\n",
       "      <td>2.000000</td>\n",
       "      <td>2.000000</td>\n",
       "      <td>2.000000</td>\n",
       "      <td>1.000000</td>\n",
       "      <td>1.000000</td>\n",
       "      <td>0.000000</td>\n",
       "      <td>0.000000</td>\n",
       "      <td>0.0</td>\n",
       "    </tr>\n",
       "    <tr>\n",
       "      <th>max</th>\n",
       "      <td>146.000000</td>\n",
       "      <td>10.000000</td>\n",
       "      <td>1.000000</td>\n",
       "      <td>1.000000</td>\n",
       "      <td>1.000000</td>\n",
       "      <td>1.000000</td>\n",
       "      <td>1.000000</td>\n",
       "      <td>1.000000</td>\n",
       "      <td>2.000000</td>\n",
       "      <td>2.000000</td>\n",
       "      <td>2.000000</td>\n",
       "      <td>2.000000</td>\n",
       "      <td>2.000000</td>\n",
       "      <td>2.000000</td>\n",
       "      <td>1.000000</td>\n",
       "      <td>1.000000</td>\n",
       "      <td>1.000000</td>\n",
       "      <td>1.000000</td>\n",
       "      <td>0.0</td>\n",
       "    </tr>\n",
       "  </tbody>\n",
       "</table>\n",
       "</div>"
      ],
      "text/plain": [
       "           UserId       note       cout    paysage      activ    confort  \\\n",
       "count   49.000000  49.000000  49.000000  49.000000  49.000000  49.000000   \n",
       "mean    74.367347   8.367347   0.693878   0.755102   0.551020   0.510204   \n",
       "std     43.261653   1.130890   0.465657   0.434483   0.502545   0.505076   \n",
       "min      3.000000   5.000000   0.000000   0.000000   0.000000   0.000000   \n",
       "25%     30.000000   8.000000   0.000000   1.000000   0.000000   0.000000   \n",
       "50%     81.000000   8.000000   1.000000   1.000000   1.000000   1.000000   \n",
       "75%    108.000000   9.000000   1.000000   1.000000   1.000000   1.000000   \n",
       "max    146.000000  10.000000   1.000000   1.000000   1.000000   1.000000   \n",
       "\n",
       "         periode      meteo     cout_p  paysage_p    activ_p  confort_p  \\\n",
       "count  49.000000  49.000000  49.000000  49.000000  49.000000  49.000000   \n",
       "mean    0.510204   0.734694   1.734694   1.653061   1.530612   1.428571   \n",
       "std     0.505076   0.446071   0.446071   0.480929   0.504234   0.500000   \n",
       "min     0.000000   0.000000   1.000000   1.000000   1.000000   1.000000   \n",
       "25%     0.000000   0.000000   1.000000   1.000000   1.000000   1.000000   \n",
       "50%     1.000000   1.000000   2.000000   2.000000   2.000000   1.000000   \n",
       "75%     1.000000   1.000000   2.000000   2.000000   2.000000   2.000000   \n",
       "max     1.000000   1.000000   2.000000   2.000000   2.000000   2.000000   \n",
       "\n",
       "       periode_p    meteo_p  18-26 ans  27-39 ans  40-60 ans  moins de 18 ans  \\\n",
       "count  49.000000  49.000000  49.000000  49.000000  49.000000        49.000000   \n",
       "mean    1.285714   1.591837   0.530612   0.306122   0.122449         0.040816   \n",
       "std     0.456435   0.496587   0.504234   0.465657   0.331201         0.199915   \n",
       "min     1.000000   1.000000   0.000000   0.000000   0.000000         0.000000   \n",
       "25%     1.000000   1.000000   0.000000   0.000000   0.000000         0.000000   \n",
       "50%     1.000000   2.000000   1.000000   0.000000   0.000000         0.000000   \n",
       "75%     2.000000   2.000000   1.000000   1.000000   0.000000         0.000000   \n",
       "max     2.000000   2.000000   1.000000   1.000000   1.000000         1.000000   \n",
       "\n",
       "       plus de 60 ans  \n",
       "count            49.0  \n",
       "mean              0.0  \n",
       "std               0.0  \n",
       "min               0.0  \n",
       "25%               0.0  \n",
       "50%               0.0  \n",
       "75%               0.0  \n",
       "max               0.0  "
      ]
     },
     "execution_count": 37,
     "metadata": {},
     "output_type": "execute_result"
    }
   ],
   "source": [
    "data_spain.describe()"
   ]
  },
  {
   "cell_type": "markdown",
   "metadata": {},
   "source": [
    "Overall, around 75% of the reviewers liked the landscape, and 73% liked the weather."
   ]
  },
  {
   "cell_type": "markdown",
   "metadata": {},
   "source": [
    "<h3> Comparison with the 2nd most visited country : Italy"
   ]
  },
  {
   "cell_type": "code",
   "execution_count": 121,
   "metadata": {},
   "outputs": [],
   "source": [
    "data_italy = data_reviews.loc[data_reviews['voyage'] == 'Italie']"
   ]
  },
  {
   "cell_type": "code",
   "execution_count": 124,
   "metadata": {
    "scrolled": true
   },
   "outputs": [
    {
     "data": {
      "text/html": [
       "<div>\n",
       "<style scoped>\n",
       "    .dataframe tbody tr th:only-of-type {\n",
       "        vertical-align: middle;\n",
       "    }\n",
       "\n",
       "    .dataframe tbody tr th {\n",
       "        vertical-align: top;\n",
       "    }\n",
       "\n",
       "    .dataframe thead th {\n",
       "        text-align: right;\n",
       "    }\n",
       "</style>\n",
       "<table border=\"1\" class=\"dataframe\">\n",
       "  <thead>\n",
       "    <tr style=\"text-align: right;\">\n",
       "      <th></th>\n",
       "      <th>UserId</th>\n",
       "      <th>note</th>\n",
       "      <th>cout</th>\n",
       "      <th>paysage</th>\n",
       "      <th>activ</th>\n",
       "      <th>confort</th>\n",
       "      <th>periode</th>\n",
       "      <th>meteo</th>\n",
       "      <th>cout_p</th>\n",
       "      <th>paysage_p</th>\n",
       "      <th>activ_p</th>\n",
       "      <th>confort_p</th>\n",
       "      <th>periode_p</th>\n",
       "      <th>meteo_p</th>\n",
       "      <th>18-26 ans</th>\n",
       "      <th>27-39 ans</th>\n",
       "      <th>40-60 ans</th>\n",
       "      <th>moins de 18 ans</th>\n",
       "      <th>plus de 60 ans</th>\n",
       "      <th>charac_mark</th>\n",
       "    </tr>\n",
       "  </thead>\n",
       "  <tbody>\n",
       "    <tr>\n",
       "      <th>count</th>\n",
       "      <td>36.000000</td>\n",
       "      <td>36.000000</td>\n",
       "      <td>36.000000</td>\n",
       "      <td>36.000000</td>\n",
       "      <td>36.000000</td>\n",
       "      <td>36.000000</td>\n",
       "      <td>36.000000</td>\n",
       "      <td>36.000000</td>\n",
       "      <td>36.000000</td>\n",
       "      <td>36.000000</td>\n",
       "      <td>36.000000</td>\n",
       "      <td>36.000000</td>\n",
       "      <td>36.000000</td>\n",
       "      <td>36.000000</td>\n",
       "      <td>36.000000</td>\n",
       "      <td>36.000000</td>\n",
       "      <td>36.000000</td>\n",
       "      <td>36.0</td>\n",
       "      <td>36.0</td>\n",
       "      <td>36.0</td>\n",
       "    </tr>\n",
       "    <tr>\n",
       "      <th>mean</th>\n",
       "      <td>78.750000</td>\n",
       "      <td>7.750000</td>\n",
       "      <td>0.527778</td>\n",
       "      <td>0.750000</td>\n",
       "      <td>0.472222</td>\n",
       "      <td>0.388889</td>\n",
       "      <td>0.500000</td>\n",
       "      <td>0.555556</td>\n",
       "      <td>1.694444</td>\n",
       "      <td>1.833333</td>\n",
       "      <td>1.444444</td>\n",
       "      <td>1.166667</td>\n",
       "      <td>1.305556</td>\n",
       "      <td>1.638889</td>\n",
       "      <td>0.333333</td>\n",
       "      <td>0.583333</td>\n",
       "      <td>0.083333</td>\n",
       "      <td>0.0</td>\n",
       "      <td>0.0</td>\n",
       "      <td>0.0</td>\n",
       "    </tr>\n",
       "    <tr>\n",
       "      <th>std</th>\n",
       "      <td>45.260121</td>\n",
       "      <td>0.840918</td>\n",
       "      <td>0.506309</td>\n",
       "      <td>0.439155</td>\n",
       "      <td>0.506309</td>\n",
       "      <td>0.494413</td>\n",
       "      <td>0.507093</td>\n",
       "      <td>0.503953</td>\n",
       "      <td>0.467177</td>\n",
       "      <td>0.377964</td>\n",
       "      <td>0.503953</td>\n",
       "      <td>0.377964</td>\n",
       "      <td>0.467177</td>\n",
       "      <td>0.487136</td>\n",
       "      <td>0.478091</td>\n",
       "      <td>0.500000</td>\n",
       "      <td>0.280306</td>\n",
       "      <td>0.0</td>\n",
       "      <td>0.0</td>\n",
       "      <td>0.0</td>\n",
       "    </tr>\n",
       "    <tr>\n",
       "      <th>min</th>\n",
       "      <td>1.000000</td>\n",
       "      <td>6.000000</td>\n",
       "      <td>0.000000</td>\n",
       "      <td>0.000000</td>\n",
       "      <td>0.000000</td>\n",
       "      <td>0.000000</td>\n",
       "      <td>0.000000</td>\n",
       "      <td>0.000000</td>\n",
       "      <td>1.000000</td>\n",
       "      <td>1.000000</td>\n",
       "      <td>1.000000</td>\n",
       "      <td>1.000000</td>\n",
       "      <td>1.000000</td>\n",
       "      <td>1.000000</td>\n",
       "      <td>0.000000</td>\n",
       "      <td>0.000000</td>\n",
       "      <td>0.000000</td>\n",
       "      <td>0.0</td>\n",
       "      <td>0.0</td>\n",
       "      <td>0.0</td>\n",
       "    </tr>\n",
       "    <tr>\n",
       "      <th>25%</th>\n",
       "      <td>44.500000</td>\n",
       "      <td>7.000000</td>\n",
       "      <td>0.000000</td>\n",
       "      <td>0.750000</td>\n",
       "      <td>0.000000</td>\n",
       "      <td>0.000000</td>\n",
       "      <td>0.000000</td>\n",
       "      <td>0.000000</td>\n",
       "      <td>1.000000</td>\n",
       "      <td>2.000000</td>\n",
       "      <td>1.000000</td>\n",
       "      <td>1.000000</td>\n",
       "      <td>1.000000</td>\n",
       "      <td>1.000000</td>\n",
       "      <td>0.000000</td>\n",
       "      <td>0.000000</td>\n",
       "      <td>0.000000</td>\n",
       "      <td>0.0</td>\n",
       "      <td>0.0</td>\n",
       "      <td>0.0</td>\n",
       "    </tr>\n",
       "    <tr>\n",
       "      <th>50%</th>\n",
       "      <td>78.500000</td>\n",
       "      <td>8.000000</td>\n",
       "      <td>1.000000</td>\n",
       "      <td>1.000000</td>\n",
       "      <td>0.000000</td>\n",
       "      <td>0.000000</td>\n",
       "      <td>0.500000</td>\n",
       "      <td>1.000000</td>\n",
       "      <td>2.000000</td>\n",
       "      <td>2.000000</td>\n",
       "      <td>1.000000</td>\n",
       "      <td>1.000000</td>\n",
       "      <td>1.000000</td>\n",
       "      <td>2.000000</td>\n",
       "      <td>0.000000</td>\n",
       "      <td>1.000000</td>\n",
       "      <td>0.000000</td>\n",
       "      <td>0.0</td>\n",
       "      <td>0.0</td>\n",
       "      <td>0.0</td>\n",
       "    </tr>\n",
       "    <tr>\n",
       "      <th>75%</th>\n",
       "      <td>115.500000</td>\n",
       "      <td>8.000000</td>\n",
       "      <td>1.000000</td>\n",
       "      <td>1.000000</td>\n",
       "      <td>1.000000</td>\n",
       "      <td>1.000000</td>\n",
       "      <td>1.000000</td>\n",
       "      <td>1.000000</td>\n",
       "      <td>2.000000</td>\n",
       "      <td>2.000000</td>\n",
       "      <td>2.000000</td>\n",
       "      <td>1.000000</td>\n",
       "      <td>2.000000</td>\n",
       "      <td>2.000000</td>\n",
       "      <td>1.000000</td>\n",
       "      <td>1.000000</td>\n",
       "      <td>0.000000</td>\n",
       "      <td>0.0</td>\n",
       "      <td>0.0</td>\n",
       "      <td>0.0</td>\n",
       "    </tr>\n",
       "    <tr>\n",
       "      <th>max</th>\n",
       "      <td>146.000000</td>\n",
       "      <td>9.000000</td>\n",
       "      <td>1.000000</td>\n",
       "      <td>1.000000</td>\n",
       "      <td>1.000000</td>\n",
       "      <td>1.000000</td>\n",
       "      <td>1.000000</td>\n",
       "      <td>1.000000</td>\n",
       "      <td>2.000000</td>\n",
       "      <td>2.000000</td>\n",
       "      <td>2.000000</td>\n",
       "      <td>2.000000</td>\n",
       "      <td>2.000000</td>\n",
       "      <td>2.000000</td>\n",
       "      <td>1.000000</td>\n",
       "      <td>1.000000</td>\n",
       "      <td>1.000000</td>\n",
       "      <td>0.0</td>\n",
       "      <td>0.0</td>\n",
       "      <td>0.0</td>\n",
       "    </tr>\n",
       "  </tbody>\n",
       "</table>\n",
       "</div>"
      ],
      "text/plain": [
       "           UserId       note       cout    paysage      activ    confort  \\\n",
       "count   36.000000  36.000000  36.000000  36.000000  36.000000  36.000000   \n",
       "mean    78.750000   7.750000   0.527778   0.750000   0.472222   0.388889   \n",
       "std     45.260121   0.840918   0.506309   0.439155   0.506309   0.494413   \n",
       "min      1.000000   6.000000   0.000000   0.000000   0.000000   0.000000   \n",
       "25%     44.500000   7.000000   0.000000   0.750000   0.000000   0.000000   \n",
       "50%     78.500000   8.000000   1.000000   1.000000   0.000000   0.000000   \n",
       "75%    115.500000   8.000000   1.000000   1.000000   1.000000   1.000000   \n",
       "max    146.000000   9.000000   1.000000   1.000000   1.000000   1.000000   \n",
       "\n",
       "         periode      meteo     cout_p  paysage_p    activ_p  confort_p  \\\n",
       "count  36.000000  36.000000  36.000000  36.000000  36.000000  36.000000   \n",
       "mean    0.500000   0.555556   1.694444   1.833333   1.444444   1.166667   \n",
       "std     0.507093   0.503953   0.467177   0.377964   0.503953   0.377964   \n",
       "min     0.000000   0.000000   1.000000   1.000000   1.000000   1.000000   \n",
       "25%     0.000000   0.000000   1.000000   2.000000   1.000000   1.000000   \n",
       "50%     0.500000   1.000000   2.000000   2.000000   1.000000   1.000000   \n",
       "75%     1.000000   1.000000   2.000000   2.000000   2.000000   1.000000   \n",
       "max     1.000000   1.000000   2.000000   2.000000   2.000000   2.000000   \n",
       "\n",
       "       periode_p    meteo_p  18-26 ans  27-39 ans  40-60 ans  moins de 18 ans  \\\n",
       "count  36.000000  36.000000  36.000000  36.000000  36.000000             36.0   \n",
       "mean    1.305556   1.638889   0.333333   0.583333   0.083333              0.0   \n",
       "std     0.467177   0.487136   0.478091   0.500000   0.280306              0.0   \n",
       "min     1.000000   1.000000   0.000000   0.000000   0.000000              0.0   \n",
       "25%     1.000000   1.000000   0.000000   0.000000   0.000000              0.0   \n",
       "50%     1.000000   2.000000   0.000000   1.000000   0.000000              0.0   \n",
       "75%     2.000000   2.000000   1.000000   1.000000   0.000000              0.0   \n",
       "max     2.000000   2.000000   1.000000   1.000000   1.000000              0.0   \n",
       "\n",
       "       plus de 60 ans  charac_mark  \n",
       "count            36.0         36.0  \n",
       "mean              0.0          0.0  \n",
       "std               0.0          0.0  \n",
       "min               0.0          0.0  \n",
       "25%               0.0          0.0  \n",
       "50%               0.0          0.0  \n",
       "75%               0.0          0.0  \n",
       "max               0.0          0.0  "
      ]
     },
     "execution_count": 124,
     "metadata": {},
     "output_type": "execute_result"
    }
   ],
   "source": [
    "data_italy.describe()"
   ]
  },
  {
   "cell_type": "markdown",
   "metadata": {},
   "source": [
    "![image](https://zupimages.net/up/19/49/4tzv.png)"
   ]
  },
  {
   "cell_type": "markdown",
   "metadata": {},
   "source": [
    "[source](https://www.ou-et-quand.net/budget/espagne/)"
   ]
  },
  {
   "cell_type": "markdown",
   "metadata": {},
   "source": [
    "<h3> Which of the 10 most visited countries has the best mark ? "
   ]
  },
  {
   "cell_type": "markdown",
   "metadata": {},
   "source": [
    "In order to integrate the weights of each characteristic, we will create a second mark :       "
   ]
  },
  {
   "cell_type": "markdown",
   "metadata": {},
   "source": [
    "characteristic mark = $ \\frac{\\sum characnotation * weight * 10}{18}$  "
   ]
  },
  {
   "cell_type": "markdown",
   "metadata": {},
   "source": [
    "The global mark will be the sum of the variable note and the characteristic mark :     \n",
    "global_mark = note + characteristic_mark"
   ]
  },
  {
   "cell_type": "code",
   "execution_count": 30,
   "metadata": {},
   "outputs": [],
   "source": [
    "def get_charac_mark(x):\n",
    "    res = 0\n",
    "    for k in ['cout', 'paysage', 'activ',\n",
    "       'confort', 'periode', 'meteo']:\n",
    "        res += x[k] * x[f'{k}_p']\n",
    "    res = round((res * 10) / 18, 2)\n",
    "    return res\n",
    "    "
   ]
  },
  {
   "cell_type": "code",
   "execution_count": 31,
   "metadata": {},
   "outputs": [
    {
     "name": "stderr",
     "output_type": "stream",
     "text": [
      "/home/al/bin/anaconda/lib/python3.7/site-packages/ipykernel_launcher.py:1: SettingWithCopyWarning: \n",
      "A value is trying to be set on a copy of a slice from a DataFrame.\n",
      "Try using .loc[row_indexer,col_indexer] = value instead\n",
      "\n",
      "See the caveats in the documentation: http://pandas.pydata.org/pandas-docs/stable/user_guide/indexing.html#returning-a-view-versus-a-copy\n",
      "  \"\"\"Entry point for launching an IPython kernel.\n"
     ]
    }
   ],
   "source": [
    "data_10['charac_mark'] = 0"
   ]
  },
  {
   "cell_type": "code",
   "execution_count": 32,
   "metadata": {
    "scrolled": true
   },
   "outputs": [
    {
     "name": "stderr",
     "output_type": "stream",
     "text": [
      "/home/al/bin/anaconda/lib/python3.7/site-packages/pandas/core/indexing.py:205: SettingWithCopyWarning: \n",
      "A value is trying to be set on a copy of a slice from a DataFrame\n",
      "\n",
      "See the caveats in the documentation: http://pandas.pydata.org/pandas-docs/stable/user_guide/indexing.html#returning-a-view-versus-a-copy\n",
      "  self._setitem_with_indexer(indexer, value)\n",
      "/home/al/bin/anaconda/lib/python3.7/site-packages/ipykernel_launcher.py:1: SettingWithCopyWarning: \n",
      "A value is trying to be set on a copy of a slice from a DataFrame\n",
      "\n",
      "See the caveats in the documentation: http://pandas.pydata.org/pandas-docs/stable/user_guide/indexing.html#returning-a-view-versus-a-copy\n",
      "  \"\"\"Entry point for launching an IPython kernel.\n"
     ]
    }
   ],
   "source": [
    "data_10['charac_mark'].iloc[0] = get_charac_mark(data_10.iloc[0])"
   ]
  },
  {
   "cell_type": "code",
   "execution_count": 33,
   "metadata": {},
   "outputs": [
    {
     "name": "stderr",
     "output_type": "stream",
     "text": [
      "/home/al/bin/anaconda/lib/python3.7/site-packages/ipykernel_launcher.py:2: SettingWithCopyWarning: \n",
      "A value is trying to be set on a copy of a slice from a DataFrame\n",
      "\n",
      "See the caveats in the documentation: http://pandas.pydata.org/pandas-docs/stable/user_guide/indexing.html#returning-a-view-versus-a-copy\n",
      "  \n"
     ]
    }
   ],
   "source": [
    "for i in range(data_10.shape[0]):\n",
    "    data_10['charac_mark'].iloc[i] = get_charac_mark(data_10.iloc[i])"
   ]
  },
  {
   "cell_type": "code",
   "execution_count": 34,
   "metadata": {},
   "outputs": [],
   "source": [
    "def global_mark(x):\n",
    "    res = x['note'] + x['charac_mark']\n",
    "    return res"
   ]
  },
  {
   "cell_type": "code",
   "execution_count": 35,
   "metadata": {},
   "outputs": [
    {
     "name": "stderr",
     "output_type": "stream",
     "text": [
      "/home/al/bin/anaconda/lib/python3.7/site-packages/ipykernel_launcher.py:1: SettingWithCopyWarning: \n",
      "A value is trying to be set on a copy of a slice from a DataFrame.\n",
      "Try using .loc[row_indexer,col_indexer] = value instead\n",
      "\n",
      "See the caveats in the documentation: http://pandas.pydata.org/pandas-docs/stable/user_guide/indexing.html#returning-a-view-versus-a-copy\n",
      "  \"\"\"Entry point for launching an IPython kernel.\n",
      "/home/al/bin/anaconda/lib/python3.7/site-packages/ipykernel_launcher.py:3: SettingWithCopyWarning: \n",
      "A value is trying to be set on a copy of a slice from a DataFrame\n",
      "\n",
      "See the caveats in the documentation: http://pandas.pydata.org/pandas-docs/stable/user_guide/indexing.html#returning-a-view-versus-a-copy\n",
      "  This is separate from the ipykernel package so we can avoid doing imports until\n"
     ]
    }
   ],
   "source": [
    "data_10['global_mark'] = 0\n",
    "for i in range(data_10.shape[0]):\n",
    "    data_10['global_mark'].iloc[i] = global_mark(data_10.iloc[i])"
   ]
  },
  {
   "cell_type": "code",
   "execution_count": 36,
   "metadata": {
    "scrolled": true
   },
   "outputs": [
    {
     "data": {
      "text/html": [
       "<div>\n",
       "<style scoped>\n",
       "    .dataframe tbody tr th:only-of-type {\n",
       "        vertical-align: middle;\n",
       "    }\n",
       "\n",
       "    .dataframe tbody tr th {\n",
       "        vertical-align: top;\n",
       "    }\n",
       "\n",
       "    .dataframe thead th {\n",
       "        text-align: right;\n",
       "    }\n",
       "</style>\n",
       "<table border=\"1\" class=\"dataframe\">\n",
       "  <thead>\n",
       "    <tr style=\"text-align: right;\">\n",
       "      <th></th>\n",
       "      <th>Unnamed: 0</th>\n",
       "      <th>UserId</th>\n",
       "      <th>voyage</th>\n",
       "      <th>note</th>\n",
       "      <th>cout</th>\n",
       "      <th>paysage</th>\n",
       "      <th>activ</th>\n",
       "      <th>confort</th>\n",
       "      <th>periode</th>\n",
       "      <th>meteo</th>\n",
       "      <th>...</th>\n",
       "      <th>confort_p</th>\n",
       "      <th>periode_p</th>\n",
       "      <th>meteo_p</th>\n",
       "      <th>18-26 ans</th>\n",
       "      <th>27-39 ans</th>\n",
       "      <th>40-60 ans</th>\n",
       "      <th>moins de 18 ans</th>\n",
       "      <th>plus de 60 ans</th>\n",
       "      <th>charac_mark</th>\n",
       "      <th>global_mark</th>\n",
       "    </tr>\n",
       "  </thead>\n",
       "  <tbody>\n",
       "    <tr>\n",
       "      <th>2</th>\n",
       "      <td>2</td>\n",
       "      <td>0</td>\n",
       "      <td>Royaume uni</td>\n",
       "      <td>8</td>\n",
       "      <td>1</td>\n",
       "      <td>0</td>\n",
       "      <td>1</td>\n",
       "      <td>1</td>\n",
       "      <td>1</td>\n",
       "      <td>1</td>\n",
       "      <td>...</td>\n",
       "      <td>1</td>\n",
       "      <td>1</td>\n",
       "      <td>2</td>\n",
       "      <td>1</td>\n",
       "      <td>0</td>\n",
       "      <td>0</td>\n",
       "      <td>0</td>\n",
       "      <td>0</td>\n",
       "      <td>4.44</td>\n",
       "      <td>12.44</td>\n",
       "    </tr>\n",
       "    <tr>\n",
       "      <th>3</th>\n",
       "      <td>3</td>\n",
       "      <td>1</td>\n",
       "      <td>Italie</td>\n",
       "      <td>8</td>\n",
       "      <td>1</td>\n",
       "      <td>1</td>\n",
       "      <td>0</td>\n",
       "      <td>0</td>\n",
       "      <td>1</td>\n",
       "      <td>1</td>\n",
       "      <td>...</td>\n",
       "      <td>1</td>\n",
       "      <td>1</td>\n",
       "      <td>2</td>\n",
       "      <td>0</td>\n",
       "      <td>1</td>\n",
       "      <td>0</td>\n",
       "      <td>0</td>\n",
       "      <td>0</td>\n",
       "      <td>3.89</td>\n",
       "      <td>11.89</td>\n",
       "    </tr>\n",
       "    <tr>\n",
       "      <th>4</th>\n",
       "      <td>4</td>\n",
       "      <td>1</td>\n",
       "      <td>Portugal</td>\n",
       "      <td>7</td>\n",
       "      <td>1</td>\n",
       "      <td>1</td>\n",
       "      <td>0</td>\n",
       "      <td>1</td>\n",
       "      <td>1</td>\n",
       "      <td>1</td>\n",
       "      <td>...</td>\n",
       "      <td>1</td>\n",
       "      <td>1</td>\n",
       "      <td>2</td>\n",
       "      <td>0</td>\n",
       "      <td>1</td>\n",
       "      <td>0</td>\n",
       "      <td>0</td>\n",
       "      <td>0</td>\n",
       "      <td>4.44</td>\n",
       "      <td>11.44</td>\n",
       "    </tr>\n",
       "    <tr>\n",
       "      <th>5</th>\n",
       "      <td>5</td>\n",
       "      <td>1</td>\n",
       "      <td>Etats unis</td>\n",
       "      <td>8</td>\n",
       "      <td>0</td>\n",
       "      <td>0</td>\n",
       "      <td>1</td>\n",
       "      <td>1</td>\n",
       "      <td>1</td>\n",
       "      <td>0</td>\n",
       "      <td>...</td>\n",
       "      <td>1</td>\n",
       "      <td>1</td>\n",
       "      <td>2</td>\n",
       "      <td>0</td>\n",
       "      <td>1</td>\n",
       "      <td>0</td>\n",
       "      <td>0</td>\n",
       "      <td>0</td>\n",
       "      <td>2.22</td>\n",
       "      <td>10.22</td>\n",
       "    </tr>\n",
       "    <tr>\n",
       "      <th>10</th>\n",
       "      <td>10</td>\n",
       "      <td>3</td>\n",
       "      <td>Etats unis</td>\n",
       "      <td>9</td>\n",
       "      <td>1</td>\n",
       "      <td>0</td>\n",
       "      <td>1</td>\n",
       "      <td>1</td>\n",
       "      <td>1</td>\n",
       "      <td>1</td>\n",
       "      <td>...</td>\n",
       "      <td>2</td>\n",
       "      <td>1</td>\n",
       "      <td>2</td>\n",
       "      <td>0</td>\n",
       "      <td>1</td>\n",
       "      <td>0</td>\n",
       "      <td>0</td>\n",
       "      <td>0</td>\n",
       "      <td>5.00</td>\n",
       "      <td>14.00</td>\n",
       "    </tr>\n",
       "  </tbody>\n",
       "</table>\n",
       "<p>5 rows × 23 columns</p>\n",
       "</div>"
      ],
      "text/plain": [
       "    Unnamed: 0  UserId       voyage  note  cout  paysage  activ  confort  \\\n",
       "2            2       0  Royaume uni     8     1        0      1        1   \n",
       "3            3       1       Italie     8     1        1      0        0   \n",
       "4            4       1     Portugal     7     1        1      0        1   \n",
       "5            5       1   Etats unis     8     0        0      1        1   \n",
       "10          10       3   Etats unis     9     1        0      1        1   \n",
       "\n",
       "    periode  meteo  ...  confort_p  periode_p  meteo_p  18-26 ans  27-39 ans  \\\n",
       "2         1      1  ...          1          1        2          1          0   \n",
       "3         1      1  ...          1          1        2          0          1   \n",
       "4         1      1  ...          1          1        2          0          1   \n",
       "5         1      0  ...          1          1        2          0          1   \n",
       "10        1      1  ...          2          1        2          0          1   \n",
       "\n",
       "    40-60 ans  moins de 18 ans  plus de 60 ans  charac_mark  global_mark  \n",
       "2           0                0               0         4.44        12.44  \n",
       "3           0                0               0         3.89        11.89  \n",
       "4           0                0               0         4.44        11.44  \n",
       "5           0                0               0         2.22        10.22  \n",
       "10          0                0               0         5.00        14.00  \n",
       "\n",
       "[5 rows x 23 columns]"
      ]
     },
     "execution_count": 36,
     "metadata": {},
     "output_type": "execute_result"
    }
   ],
   "source": [
    "data_10.head()"
   ]
  },
  {
   "cell_type": "code",
   "execution_count": 39,
   "metadata": {},
   "outputs": [
    {
     "data": {
      "text/html": [
       "<div>\n",
       "<style scoped>\n",
       "    .dataframe tbody tr th:only-of-type {\n",
       "        vertical-align: middle;\n",
       "    }\n",
       "\n",
       "    .dataframe tbody tr th {\n",
       "        vertical-align: top;\n",
       "    }\n",
       "\n",
       "    .dataframe thead th {\n",
       "        text-align: right;\n",
       "    }\n",
       "</style>\n",
       "<table border=\"1\" class=\"dataframe\">\n",
       "  <thead>\n",
       "    <tr style=\"text-align: right;\">\n",
       "      <th></th>\n",
       "      <th>voyage</th>\n",
       "      <th>note</th>\n",
       "      <th>charac_mark</th>\n",
       "      <th>global_mark</th>\n",
       "    </tr>\n",
       "  </thead>\n",
       "  <tbody>\n",
       "    <tr>\n",
       "      <th>2</th>\n",
       "      <td>Royaume uni</td>\n",
       "      <td>8</td>\n",
       "      <td>4.44</td>\n",
       "      <td>12.44</td>\n",
       "    </tr>\n",
       "    <tr>\n",
       "      <th>3</th>\n",
       "      <td>Italie</td>\n",
       "      <td>8</td>\n",
       "      <td>3.89</td>\n",
       "      <td>11.89</td>\n",
       "    </tr>\n",
       "    <tr>\n",
       "      <th>4</th>\n",
       "      <td>Portugal</td>\n",
       "      <td>7</td>\n",
       "      <td>4.44</td>\n",
       "      <td>11.44</td>\n",
       "    </tr>\n",
       "    <tr>\n",
       "      <th>5</th>\n",
       "      <td>Etats unis</td>\n",
       "      <td>8</td>\n",
       "      <td>2.22</td>\n",
       "      <td>10.22</td>\n",
       "    </tr>\n",
       "    <tr>\n",
       "      <th>10</th>\n",
       "      <td>Etats unis</td>\n",
       "      <td>9</td>\n",
       "      <td>5.00</td>\n",
       "      <td>14.00</td>\n",
       "    </tr>\n",
       "    <tr>\n",
       "      <th>...</th>\n",
       "      <td>...</td>\n",
       "      <td>...</td>\n",
       "      <td>...</td>\n",
       "      <td>...</td>\n",
       "    </tr>\n",
       "    <tr>\n",
       "      <th>434</th>\n",
       "      <td>Italie</td>\n",
       "      <td>9</td>\n",
       "      <td>3.33</td>\n",
       "      <td>12.33</td>\n",
       "    </tr>\n",
       "    <tr>\n",
       "      <th>436</th>\n",
       "      <td>France</td>\n",
       "      <td>5</td>\n",
       "      <td>1.11</td>\n",
       "      <td>6.11</td>\n",
       "    </tr>\n",
       "    <tr>\n",
       "      <th>438</th>\n",
       "      <td>Italie</td>\n",
       "      <td>7</td>\n",
       "      <td>1.67</td>\n",
       "      <td>8.67</td>\n",
       "    </tr>\n",
       "    <tr>\n",
       "      <th>439</th>\n",
       "      <td>Suisse</td>\n",
       "      <td>8</td>\n",
       "      <td>2.78</td>\n",
       "      <td>10.78</td>\n",
       "    </tr>\n",
       "    <tr>\n",
       "      <th>440</th>\n",
       "      <td>Espagne</td>\n",
       "      <td>8</td>\n",
       "      <td>1.67</td>\n",
       "      <td>9.67</td>\n",
       "    </tr>\n",
       "  </tbody>\n",
       "</table>\n",
       "<p>254 rows × 4 columns</p>\n",
       "</div>"
      ],
      "text/plain": [
       "          voyage  note  charac_mark  global_mark\n",
       "2    Royaume uni     8         4.44        12.44\n",
       "3         Italie     8         3.89        11.89\n",
       "4       Portugal     7         4.44        11.44\n",
       "5     Etats unis     8         2.22        10.22\n",
       "10    Etats unis     9         5.00        14.00\n",
       "..           ...   ...          ...          ...\n",
       "434       Italie     9         3.33        12.33\n",
       "436       France     5         1.11         6.11\n",
       "438       Italie     7         1.67         8.67\n",
       "439       Suisse     8         2.78        10.78\n",
       "440      Espagne     8         1.67         9.67\n",
       "\n",
       "[254 rows x 4 columns]"
      ]
     },
     "execution_count": 39,
     "metadata": {},
     "output_type": "execute_result"
    }
   ],
   "source": [
    "data_10[['voyage', 'note', 'charac_mark', 'global_mark']]"
   ]
  },
  {
   "cell_type": "code",
   "execution_count": 40,
   "metadata": {
    "scrolled": true
   },
   "outputs": [
    {
     "name": "stdout",
     "output_type": "stream",
     "text": [
      "The mean global mark of Espagne  is : 11.77\n",
      "The mean global mark of Italie  is : 10.7\n",
      "The mean global mark of Guadeloupe  is : 12.56\n",
      "The mean global mark of Etats unis  is : 11.58\n",
      "The mean global mark of France  is : 9.82\n",
      "The mean global mark of Royaume uni  is : 11.45\n",
      "The mean global mark of Pays bas  is : 10.67\n",
      "The mean global mark of Allemagne  is : 10.1\n",
      "The mean global mark of Portugal  is : 11.69\n",
      "The mean global mark of Suisse  is : 10.02\n"
     ]
    }
   ],
   "source": [
    "x = []\n",
    "y = []\n",
    "for i in range(len(most_visited_country.index)):\n",
    "    x.append(most_visited_country.index[i])\n",
    "    y.append(round(data_10.loc[data_10['voyage'] == most_visited_country.index[i]]['global_mark'].mean(),2))\n",
    "    print(f\"The mean global mark of {most_visited_country.index[i]}  is : {round(data_10.loc[data_10['voyage'] == most_visited_country.index[i]]['global_mark'].mean(),2)}\")"
   ]
  },
  {
   "cell_type": "code",
   "execution_count": 50,
   "metadata": {
    "scrolled": true
   },
   "outputs": [
    {
     "data": {
      "text/html": [
       "<div>\n",
       "<style scoped>\n",
       "    .dataframe tbody tr th:only-of-type {\n",
       "        vertical-align: middle;\n",
       "    }\n",
       "\n",
       "    .dataframe tbody tr th {\n",
       "        vertical-align: top;\n",
       "    }\n",
       "\n",
       "    .dataframe thead th {\n",
       "        text-align: right;\n",
       "    }\n",
       "</style>\n",
       "<table border=\"1\" class=\"dataframe\">\n",
       "  <thead>\n",
       "    <tr style=\"text-align: right;\">\n",
       "      <th></th>\n",
       "      <th>Pays</th>\n",
       "      <th>ISO2</th>\n",
       "      <th>mean_temp</th>\n",
       "      <th>mean_rain</th>\n",
       "      <th>budget</th>\n",
       "      <th>language</th>\n",
       "      <th>visa_required</th>\n",
       "      <th>continent</th>\n",
       "      <th>CountryId</th>\n",
       "    </tr>\n",
       "  </thead>\n",
       "  <tbody>\n",
       "    <tr>\n",
       "      <th>74</th>\n",
       "      <td>France</td>\n",
       "      <td>FR</td>\n",
       "      <td>11.4</td>\n",
       "      <td>750.3</td>\n",
       "      <td>60.0</td>\n",
       "      <td>Français</td>\n",
       "      <td>?</td>\n",
       "      <td>Europe</td>\n",
       "      <td>74</td>\n",
       "    </tr>\n",
       "    <tr>\n",
       "      <th>81</th>\n",
       "      <td>Allemagne</td>\n",
       "      <td>DE</td>\n",
       "      <td>8.9</td>\n",
       "      <td>653.5</td>\n",
       "      <td>49.0</td>\n",
       "      <td>Allemand</td>\n",
       "      <td>NON</td>\n",
       "      <td>Europe</td>\n",
       "      <td>81</td>\n",
       "    </tr>\n",
       "    <tr>\n",
       "      <th>87</th>\n",
       "      <td>Guadeloupe</td>\n",
       "      <td>GP</td>\n",
       "      <td>26.0</td>\n",
       "      <td>1754.3</td>\n",
       "      <td>98.0</td>\n",
       "      <td>Français</td>\n",
       "      <td>?</td>\n",
       "      <td>Amérique du nord</td>\n",
       "      <td>87</td>\n",
       "    </tr>\n",
       "    <tr>\n",
       "      <th>106</th>\n",
       "      <td>Italie</td>\n",
       "      <td>IT</td>\n",
       "      <td>13.9</td>\n",
       "      <td>707.8</td>\n",
       "      <td>58.0</td>\n",
       "      <td>Italien</td>\n",
       "      <td>NON</td>\n",
       "      <td>Europe</td>\n",
       "      <td>106</td>\n",
       "    </tr>\n",
       "    <tr>\n",
       "      <th>152</th>\n",
       "      <td>Pays bas</td>\n",
       "      <td>NL</td>\n",
       "      <td>9.9</td>\n",
       "      <td>789.1</td>\n",
       "      <td>56.0</td>\n",
       "      <td>Néerlandais, flamand</td>\n",
       "      <td>NON</td>\n",
       "      <td>Europe</td>\n",
       "      <td>152</td>\n",
       "    </tr>\n",
       "    <tr>\n",
       "      <th>172</th>\n",
       "      <td>Portugal</td>\n",
       "      <td>PT</td>\n",
       "      <td>15.3</td>\n",
       "      <td>783.4</td>\n",
       "      <td>58.0</td>\n",
       "      <td>Portugais, Mirandais</td>\n",
       "      <td>NON</td>\n",
       "      <td>Europe</td>\n",
       "      <td>172</td>\n",
       "    </tr>\n",
       "    <tr>\n",
       "      <th>202</th>\n",
       "      <td>Espagne</td>\n",
       "      <td>ES</td>\n",
       "      <td>15.3</td>\n",
       "      <td>512.6</td>\n",
       "      <td>65.0</td>\n",
       "      <td>Espagnol, castillan</td>\n",
       "      <td>NON</td>\n",
       "      <td>Europe</td>\n",
       "      <td>202</td>\n",
       "    </tr>\n",
       "    <tr>\n",
       "      <th>209</th>\n",
       "      <td>Suisse</td>\n",
       "      <td>CH</td>\n",
       "      <td>7.9</td>\n",
       "      <td>1204.7</td>\n",
       "      <td>55.0</td>\n",
       "      <td>Allemand, Français, Italien</td>\n",
       "      <td>NON</td>\n",
       "      <td>Europe</td>\n",
       "      <td>209</td>\n",
       "    </tr>\n",
       "    <tr>\n",
       "      <th>228</th>\n",
       "      <td>Royaume uni</td>\n",
       "      <td>GB</td>\n",
       "      <td>8.9</td>\n",
       "      <td>970.4</td>\n",
       "      <td>79.0</td>\n",
       "      <td>Anglais, Gallois</td>\n",
       "      <td>NON</td>\n",
       "      <td>Europe</td>\n",
       "      <td>228</td>\n",
       "    </tr>\n",
       "    <tr>\n",
       "      <th>229</th>\n",
       "      <td>Etats unis</td>\n",
       "      <td>US</td>\n",
       "      <td>12.0</td>\n",
       "      <td>763.4</td>\n",
       "      <td>94.0</td>\n",
       "      <td>Anglais</td>\n",
       "      <td>Autorisation eléctronique</td>\n",
       "      <td>Amérique du nord</td>\n",
       "      <td>229</td>\n",
       "    </tr>\n",
       "  </tbody>\n",
       "</table>\n",
       "</div>"
      ],
      "text/plain": [
       "            Pays ISO2  mean_temp  mean_rain  budget  \\\n",
       "74        France   FR       11.4      750.3    60.0   \n",
       "81     Allemagne   DE        8.9      653.5    49.0   \n",
       "87    Guadeloupe   GP       26.0     1754.3    98.0   \n",
       "106       Italie   IT       13.9      707.8    58.0   \n",
       "152     Pays bas   NL        9.9      789.1    56.0   \n",
       "172     Portugal   PT       15.3      783.4    58.0   \n",
       "202      Espagne   ES       15.3      512.6    65.0   \n",
       "209       Suisse   CH        7.9     1204.7    55.0   \n",
       "228  Royaume uni   GB        8.9      970.4    79.0   \n",
       "229   Etats unis   US       12.0      763.4    94.0   \n",
       "\n",
       "                        language              visa_required         continent  \\\n",
       "74                      Français                          ?            Europe   \n",
       "81                      Allemand                        NON            Europe   \n",
       "87                      Français                          ?  Amérique du nord   \n",
       "106                      Italien                        NON            Europe   \n",
       "152         Néerlandais, flamand                        NON            Europe   \n",
       "172         Portugais, Mirandais                        NON            Europe   \n",
       "202          Espagnol, castillan                        NON            Europe   \n",
       "209  Allemand, Français, Italien                        NON            Europe   \n",
       "228             Anglais, Gallois                        NON            Europe   \n",
       "229                      Anglais  Autorisation eléctronique  Amérique du nord   \n",
       "\n",
       "     CountryId  \n",
       "74          74  \n",
       "81          81  \n",
       "87          87  \n",
       "106        106  \n",
       "152        152  \n",
       "172        172  \n",
       "202        202  \n",
       "209        209  \n",
       "228        228  \n",
       "229        229  "
      ]
     },
     "execution_count": 50,
     "metadata": {},
     "output_type": "execute_result"
    }
   ],
   "source": [
    "data_country.loc[data_country['Pays'].isin(most_visited_country.index)]"
   ]
  },
  {
   "cell_type": "markdown",
   "metadata": {},
   "source": [
    "**Conclusion:** Except the United States and Guadeloupe, all of these countries are located in Europe. We can suppose that these countries are in the Top 10 because the majority of the answers were submitted by 18-26 years old. So, we might conclude that since this category represents young adults, mostly students and young workers, maybe they have less means to go farther than other older categories of people.     \n",
    "Lastly, I want to emphasize the fact that these are all assumptions based on my results. "
   ]
  },
  {
   "cell_type": "markdown",
   "metadata": {},
   "source": [
    "**Presentation part** : For those who are interested, I will try to upload the presentation I gave for this final project on my very last day at Vivadata. "
   ]
  }
 ],
 "metadata": {
  "kernelspec": {
   "display_name": "Python 3",
   "language": "python",
   "name": "python3"
  },
  "language_info": {
   "codemirror_mode": {
    "name": "ipython",
    "version": 3
   },
   "file_extension": ".py",
   "mimetype": "text/x-python",
   "name": "python",
   "nbconvert_exporter": "python",
   "pygments_lexer": "ipython3",
   "version": "3.7.3"
  },
  "toc": {
   "base_numbering": 1,
   "nav_menu": {},
   "number_sections": true,
   "sideBar": true,
   "skip_h1_title": true,
   "title_cell": "Table of Contents",
   "title_sidebar": "Contents",
   "toc_cell": false,
   "toc_position": {
    "height": "calc(100% - 180px)",
    "left": "10px",
    "top": "150px",
    "width": "261.4px"
   },
   "toc_section_display": true,
   "toc_window_display": true
  }
 },
 "nbformat": 4,
 "nbformat_minor": 2
}
